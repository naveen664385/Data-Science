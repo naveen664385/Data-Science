{
 "cells": [
  {
   "cell_type": "code",
   "execution_count": 3,
   "metadata": {},
   "outputs": [],
   "source": [
    "import numpy as np\n",
    "import pandas as pd\n",
    "import sklearn as sk\n",
    "import matplotlib as mpt\n",
    "%matplotlib inline\n",
    "import matplotlib.pyplot as plt\n",
    "from numpy.random import seed\n",
    "from numpy.random import randn\n",
    "\n",
    "seed(1)"
   ]
  },
  {
   "cell_type": "code",
   "execution_count": 30,
   "metadata": {},
   "outputs": [
    {
     "name": "stdout",
     "output_type": "stream",
     "text": [
      "[1, 10, 34, 6, 22]\n",
      "14.6\n",
      "142.23999999999998\n",
      "11.926441212700459\n"
     ]
    }
   ],
   "source": [
    "data = 5 * randn(10000)+50\n",
    "data = [1,10,34,6,22]\n",
    "print(data)\n",
    "print(np.mean(data))\n",
    "print(np.var(data))\n",
    "print(np.std(data))"
   ]
  },
  {
   "cell_type": "code",
   "execution_count": 1,
   "metadata": {},
   "outputs": [
    {
     "ename": "NameError",
     "evalue": "name 'np' is not defined",
     "output_type": "error",
     "traceback": [
      "\u001b[1;31m---------------------------------------------------------------------------\u001b[0m",
      "\u001b[1;31mNameError\u001b[0m                                 Traceback (most recent call last)",
      "\u001b[1;32m<ipython-input-1-a9ea94d23852>\u001b[0m in \u001b[0;36m<module>\u001b[1;34m()\u001b[0m\n\u001b[1;32m----> 1\u001b[1;33m \u001b[0ma\u001b[0m\u001b[1;33m=\u001b[0m\u001b[0mnp\u001b[0m\u001b[1;33m.\u001b[0m\u001b[0marray\u001b[0m\u001b[1;33m(\u001b[0m\u001b[1;33m[\u001b[0m\u001b[1;36m1\u001b[0m\u001b[1;33m,\u001b[0m\u001b[1;36m5\u001b[0m\u001b[1;33m,\u001b[0m\u001b[1;36m8\u001b[0m\u001b[1;33m,\u001b[0m\u001b[1;36m11\u001b[0m\u001b[1;33m,\u001b[0m\u001b[1;36m19\u001b[0m\u001b[1;33m,\u001b[0m\u001b[1;36m24\u001b[0m\u001b[1;33m,\u001b[0m\u001b[1;36m33\u001b[0m\u001b[1;33m,\u001b[0m\u001b[1;36m37\u001b[0m\u001b[1;33m,\u001b[0m\u001b[1;36m42\u001b[0m\u001b[1;33m,\u001b[0m\u001b[1;36m48\u001b[0m\u001b[1;33m,\u001b[0m\u001b[1;36m52\u001b[0m\u001b[1;33m,\u001b[0m\u001b[1;36m5\u001b[0m\u001b[1;33m,\u001b[0m\u001b[1;36m4\u001b[0m\u001b[1;33m,\u001b[0m\u001b[1;36m67\u001b[0m\u001b[1;33m]\u001b[0m\u001b[1;33m)\u001b[0m\u001b[1;33m\u001b[0m\u001b[0m\n\u001b[0m\u001b[0;32m      2\u001b[0m \u001b[0mnp\u001b[0m\u001b[1;33m.\u001b[0m\u001b[0mmedian\u001b[0m\u001b[1;33m(\u001b[0m\u001b[0ma\u001b[0m\u001b[1;33m)\u001b[0m\u001b[1;33m\u001b[0m\u001b[0m\n",
      "\u001b[1;31mNameError\u001b[0m: name 'np' is not defined"
     ]
    }
   ],
   "source": [
    "a=np.array([1,5,8,11,19,24,33,37,42,48,52,5,4,67])\n",
    "np.median(a)"
   ]
  },
  {
   "cell_type": "code",
   "execution_count": 56,
   "metadata": {},
   "outputs": [
    {
     "data": {
      "text/plain": [
       "14"
      ]
     },
     "execution_count": 56,
     "metadata": {},
     "output_type": "execute_result"
    }
   ],
   "source": [
    "#np.percentile(a, 75)\n",
    "a.shape[0]"
   ]
  },
  {
   "cell_type": "code",
   "execution_count": 72,
   "metadata": {},
   "outputs": [
    {
     "data": {
      "text/plain": [
       "array([[3, 1],\n",
       "       [3, 1],\n",
       "       [9, 7]])"
      ]
     },
     "execution_count": 72,
     "metadata": {},
     "output_type": "execute_result"
    }
   ],
   "source": [
    "a=np.array([[1,5,8,11,19,24,33,37,42,48,52,5,4,67],[1,9,3]])\n",
    "a.sort(axis=0)\n",
    "a = np.array([[3,7],[9,1],[3,1]]) \n",
    "a.sort(axis=0)\n",
    "a"
   ]
  },
  {
   "cell_type": "code",
   "execution_count": 14,
   "metadata": {},
   "outputs": [
    {
     "name": "stdout",
     "output_type": "stream",
     "text": [
      "[[ 9.16666667e+00 -2.23378311e+06]\n",
      " [-2.23378311e+06  6.38774647e+12]]\n"
     ]
    },
    {
     "data": {
      "text/plain": [
       "array([24290126])"
      ]
     },
     "execution_count": 14,
     "metadata": {},
     "output_type": "execute_result"
    }
   ],
   "source": [
    "a=[1,2,3,4,5,6,7,8,9,10]\n",
    "b=[100,9,8000000,70000,600,505,4,200,150,100]\n",
    "print(np.cov(a,b))#[0][1]\n",
    "np.var(a)\n",
    "np.var(b)\n",
    "#print(np.cov(a,b)[1][1]/np.sqrt(np.var(a)*np.var(b)))\n",
    "np.correlate(a,b)"
   ]
  },
  {
   "cell_type": "code",
   "execution_count": 75,
   "metadata": {},
   "outputs": [
    {
     "name": "stderr",
     "output_type": "stream",
     "text": [
      "b'Skipping line 15330: expected 41 fields, saw 42\\n'\n",
      "b'Skipping line 16813: expected 41 fields, saw 42\\nSkipping line 27119: expected 41 fields, saw 42\\n'\n",
      "b'Skipping line 34664: expected 41 fields, saw 42\\nSkipping line 39424: expected 41 fields, saw 42\\nSkipping line 39528: expected 41 fields, saw 42\\nSkipping line 48913: expected 41 fields, saw 42\\n'\n",
      "b'Skipping line 51722: expected 41 fields, saw 42\\nSkipping line 51740: expected 41 fields, saw 42\\n'\n",
      "b'Skipping line 72631: expected 41 fields, saw 42\\n'\n",
      "b'Skipping line 85129: expected 41 fields, saw 42\\n'\n",
      "b'Skipping line 117242: expected 41 fields, saw 42\\n'\n",
      "b'Skipping line 131531: expected 41 fields, saw 42\\n'\n",
      "b'Skipping line 182028: expected 41 fields, saw 42\\nSkipping line 182200: expected 41 fields, saw 42\\nSkipping line 195189: expected 41 fields, saw 42\\nSkipping line 195454: expected 41 fields, saw 42\\n'\n",
      "b'Skipping line 198693: expected 41 fields, saw 42\\nSkipping line 210373: expected 41 fields, saw 42\\n'\n",
      "b'Skipping line 247417: expected 41 fields, saw 42\\n'\n",
      "b'Skipping line 265715: expected 41 fields, saw 42\\nSkipping line 277286: expected 41 fields, saw 42\\n'\n",
      "b'Skipping line 297654: expected 41 fields, saw 42\\n'\n",
      "b'Skipping line 315763: expected 41 fields, saw 42\\nSkipping line 323694: expected 41 fields, saw 42\\nSkipping line 326908: expected 41 fields, saw 42\\n'\n",
      "b'Skipping line 331186: expected 41 fields, saw 42\\nSkipping line 337500: expected 41 fields, saw 42\\nSkipping line 340329: expected 41 fields, saw 42\\n'\n",
      "b'Skipping line 354773: expected 41 fields, saw 42\\nSkipping line 358355: expected 41 fields, saw 42\\n'\n",
      "b'Skipping line 365849: expected 41 fields, saw 42\\n'\n",
      "b'Skipping line 396970: expected 41 fields, saw 42\\n'\n"
     ]
    }
   ],
   "source": [
    "Rx_data = pd.read_csv('C:/Users/bnaveen3/Desktop/NEW_ML_DATA/RX_data_07_12_sep_2017.csv',skip_blank_lines=True,\n",
    "                      error_bad_lines=False)"
   ]
  },
  {
   "cell_type": "code",
   "execution_count": 52,
   "metadata": {},
   "outputs": [
    {
     "data": {
      "text/plain": [
       "array([ 1,  1, -1,  1,  1,  1,  1])"
      ]
     },
     "execution_count": 52,
     "metadata": {},
     "output_type": "execute_result"
    },
    {
     "data": {
      "image/png": "[encoded data removed]",
      "text/plain": [
       "<Figure size 432x288 with 1 Axes>"
      ]
     },
     "metadata": {},
     "output_type": "display_data"
    }
   ],
   "source": [
    "a=np.array([1,2,3,4,5,6,7,8,9,10,100,101,102,103,104,105])\n",
    "b=a+1\n",
    "d=a*10\n",
    "e=a+3\n",
    "f=a+100\n",
    "g=a+101\n",
    "h=g*2\n",
    "c=np.array([a,b,d,e,f,g,h])\n",
    "plt.boxplot(a)\n",
    "from sklearn.neighbors import LocalOutlierFactor\n",
    "LOF=LocalOutlierFactor(n_neighbors=3)\n",
    "LOF.fit_predict(c)\n",
    "#a.reshape(-1, 1)\n",
    "#LOF"
   ]
  }
 ],
 "metadata": {
  "kernelspec": {
   "display_name": "Python 3",
   "language": "python",
   "name": "python3"
  },
  "language_info": {
   "codemirror_mode": {
    "name": "ipython",
    "version": 3
   },
   "file_extension": ".py",
   "mimetype": "text/x-python",
   "name": "python",
   "nbconvert_exporter": "python",
   "pygments_lexer": "ipython3",
   "version": "3.6.4"
  }
 },
 "nbformat": 4,
 "nbformat_minor": 2
}
