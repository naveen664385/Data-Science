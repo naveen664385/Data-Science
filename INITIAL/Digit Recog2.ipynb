{
 "cells": [
  {
   "cell_type": "code",
   "execution_count": 2,
   "metadata": {},
   "outputs": [
    {
     "data": {
      "text/plain": [
       "RandomForestClassifier(bootstrap=True, class_weight=None, criterion='gini',\n",
       "            max_depth=None, max_features='auto', max_leaf_nodes=None,\n",
       "            min_impurity_decrease=0.0, min_impurity_split=None,\n",
       "            min_samples_leaf=1, min_samples_split=2,\n",
       "            min_weight_fraction_leaf=0.0, n_estimators=10, n_jobs=1,\n",
       "            oob_score=False, random_state=None, verbose=0,\n",
       "            warm_start=False)"
      ]
     },
     "execution_count": 2,
     "metadata": {},
     "output_type": "execute_result"
    }
   ],
   "source": [
    "import numpy as np\n",
    "import pandas as pd\n",
    "import scipy as sp\n",
    "import sklearn as sk\n",
    "import skimage\n",
    "from skimage import io\n",
    "import matplotlib as mp\n",
    "import pylab as pl\n",
    "import tensorflow as tf\n",
    "%matplotlib inline\n",
    "from sklearn.datasets import fetch_mldata\n",
    "mnist = fetch_mldata('MNIST original')\n",
    "digits = mnist.data\n",
    "target = mnist.target\n",
    "digits.shape\n",
    "target.shape\n",
    "#digits[100]\n",
    "#pl.imshow(digits[69989].reshape(28,28))\n",
    "from sklearn import ensemble\n",
    "classifier=ensemble.RandomForestClassifier()\n",
    "classifier.fit(digits,target)"
   ]
  },
  {
   "cell_type": "code",
   "execution_count": 2,
   "metadata": {},
   "outputs": [
    {
     "name": "stdout",
     "output_type": "stream",
     "text": [
      "Populating the interactive namespace from numpy and matplotlib\n",
      "(198, 254)\n",
      "198 254\n"
     ]
    },
    {
     "data": {
      "text/plain": [
       "<matplotlib.colorbar.Colorbar at 0xeb412b0>"
      ]
     },
     "execution_count": 2,
     "metadata": {},
     "output_type": "execute_result"
    },
    {
     "data": {
      "image/png": "[encoded data removed]",
      "text/plain": [
       "<Figure size 432x288 with 2 Axes>"
      ]
     },
     "metadata": {},
     "output_type": "display_data"
    }
   ],
   "source": [
    "%pylab inline\n",
    "origimage=io.imread('C:/Users/bnaveen3/Desktop/images.jpg',as_gray='true')\n",
    "e,f,g=origimage.shape\n",
    "from skimage.transform import rescale, resize, downscale_local_mean\n",
    "image=origimage[:,:,0].reshape(e,f)\n",
    "#print(image.shape)\n",
    "#image=origimage\n",
    "#image = rescale(origimage, 1.0 / 1)\n",
    "#print(image.shape)\n",
    "#image =image*250\n",
    "idx = image[:,:]<100\n",
    "idx_not =image[:,:]>200\n",
    "image[idx_not]=0\n",
    "image[idx]=250\n",
    "print(image.shape)\n",
    "x,y=image.shape\n",
    "print(x,y)\n",
    "for i in range(x-1):\n",
    "    for j in range(y-1):\n",
    "        if image[i,j] >200:\n",
    "            pass\n",
    "            #darkening the already darkened area so that it will be easy to identify test block\n",
    "            image[i,j-1] = image[i,j]\n",
    "            image[i,j-2] = image[i,j]\n",
    "            image[i-1,j] = image[i,j]\n",
    "            image[i-1,j-1] = image[i,j]\n",
    "            image[i-2,j] = image[i,j]\n",
    "            image[i-2,j-1] = image[i,j]\n",
    "            image[i-2,j] = image[i,j]\n",
    "\n",
    "\n",
    "pl.imshow(image,cmap='gray')\n",
    "pl.colorbar()\n",
    "  \n"
   ]
  },
  {
   "cell_type": "code",
   "execution_count": 9,
   "metadata": {},
   "outputs": [
    {
     "name": "stdout",
     "output_type": "stream",
     "text": [
      "x 198 y 254\n"
     ]
    },
    {
     "data": {
      "text/plain": [
       "<matplotlib.image.AxesImage at 0xfd7dac8>"
      ]
     },
     "execution_count": 9,
     "metadata": {},
     "output_type": "execute_result"
    },
    {
     "data": {
      "image/png": "[encoded data removed]",
      "text/plain": [
       "<Figure size 432x288 with 1 Axes>"
      ]
     },
     "metadata": {},
     "output_type": "display_data"
    }
   ],
   "source": [
    "x,y=image.shape\n",
    "print('x',x,'y',y)\n",
    "closeflag='N'\n",
    "c=0\n",
    "m=0\n",
    "while(closeflag !='Y'):\n",
    "    #print('m',m)\n",
    "    for i in range(m,x-1):\n",
    "        #print('i',i)\n",
    "        if i >=x-2:\n",
    "            closeflag='Y'\n",
    "        #print('i',i,'x',x)\n",
    "        #print('sum',sum(image[i]))\n",
    "        #print('i',i)\n",
    "        if sum(image[i]) > 0.9*y:\n",
    "            rows = i\n",
    "            break\n",
    "            print('rows',rows)\n",
    "    for j in range(rows,x-1):\n",
    "        m=j\n",
    "        if j >=x-2:\n",
    "            closeflag='Y'\n",
    "        if sum(image[j]) < 0.9*y:\n",
    "            rowe = j\n",
    "            m=rowe\n",
    "        \n",
    "            #print('rows',rows,'rowe',rowe)\n",
    "            cropimage=image[rows:rowe,]\n",
    "            break\n",
    "pl.imshow(cropimage)"
   ]
  },
  {
   "cell_type": "code",
   "execution_count": 11,
   "metadata": {},
   "outputs": [
    {
     "name": "stdout",
     "output_type": "stream",
     "text": [
      "x 198 y 254\n",
      "rows 27 rowe 83\n",
      "clength 56 cols 8 ccole 45\n",
      "clength 56 cols 61 ccole 99\n",
      "clength 56 cols 117 ccole 145\n",
      "clength 56 cols 158 ccole 198\n",
      "clength 56 cols 208 ccole 244\n",
      "clength 56 cols 208 ccole 244\n",
      "rows 85 rowe 149\n",
      "clength 64 cols 13 ccole 47\n",
      "clength 64 cols 64 ccole 101\n",
      "clength 64 cols 111 ccole 148\n",
      "clength 64 cols 160 ccole 195\n",
      "clength 64 cols 201 ccole 243\n",
      "clength 64 cols 201 ccole 243\n",
      "final  \n",
      " 9 7 9 4 7 \n",
      " 7 6 4 2 5\n"
     ]
    },
    {
     "name": "stderr",
     "output_type": "stream",
     "text": [
      "C:\\ProgramData\\Anaconda3\\lib\\site-packages\\skimage\\transform\\_warps.py:84: UserWarning: The default mode, 'constant', will be changed to 'reflect' in skimage 0.15.\n",
      "  warn(\"The default mode, 'constant', will be changed to 'reflect' in \"\n"
     ]
    },
    {
     "data": {
      "text/plain": [
       "1.0"
      ]
     },
     "execution_count": 11,
     "metadata": {},
     "output_type": "execute_result"
    },
    {
     "data": {
      "image/png": "[encoded data removed]",
      "text/plain": [
       "<Figure size 432x288 with 1 Axes>"
      ]
     },
     "metadata": {},
     "output_type": "display_data"
    }
   ],
   "source": [
    "x,y=image.shape\n",
    "print('x',x,'y',y)\n",
    "closeflag='N'\n",
    "c=0\n",
    "m=0\n",
    "exitflag='N'\n",
    "final=''\n",
    "while(closeflag !='Y'):\n",
    "    for i in range(m,x-1):\n",
    "        if i >=x-2:\n",
    "            closeflag='Y'\n",
    "        #print('i',i,'x',x)\n",
    "        #print('sum',sum(image[i]))\n",
    "        #print('sum',sum(image[i]))\n",
    "        if sum(image[i]) > 0.9*y:\n",
    "            rows = i\n",
    "            break\n",
    "    #print('rows',rows)\n",
    "    for j in range(rows,x-1):\n",
    "        if j >=x-2:\n",
    "            closeflag='Y'\n",
    "        if sum(image[j]) < 0.9*y:\n",
    "            rowe = j\n",
    "            m=rowe\n",
    "            print('rows',rows,'rowe',rowe)\n",
    "            cropimage=image[rows:rowe,]\n",
    "            final = final + ' \\n'\n",
    "            a,b =cropimage.shape\n",
    "            clength =rowe-rows\n",
    "            l=0\n",
    "            exitflag = 'N'\n",
    "            while(exitflag != 'Y'):\n",
    "                #print('a',a)\n",
    "                for i in range(l,b-1):\n",
    "                    if i == b-2:\n",
    "                        exitflag='Y'\n",
    "                    if sum(cropimage[:,i]) > clength*.85:\n",
    "                        cols = i\n",
    "                        #print('cstart',cstart)\n",
    "                        break\n",
    "                for i in range(cols+1,b-1):\n",
    "                    if i == b-2:\n",
    "                        exitflag='Y'\n",
    "                    if sum(cropimage[:,i]) < clength*.85:\n",
    "                        cole = i\n",
    "                        l=cole\n",
    "                        #print('cend',cend)\n",
    "                        l=cole+1\n",
    "                        #print('cols',cols,'cole',cole)\n",
    "                        print('clength',clength,'cols',cols,'ccole',cole)\n",
    "                        curimage=cropimage[0:clength,cols-1:cole+2]\n",
    "                        curimage = skimage.transform.resize(curimage, (28,28), preserve_range=True)\n",
    "                        curimage1 = curimage\n",
    "                        curimage = curimage.reshape(784,1)\n",
    "                        if exitflag!='Y':\n",
    "                            final = final+' '+str(int(classifier.predict(curimage.reshape(1,784))[0]))\n",
    "                        break\n",
    "            break\n",
    "print('final',final)\n",
    "a=cropimage[0:64,201:243]\n",
    "pl.imshow(cropimage[0:64,160:195])\n",
    "#sum(image[30])\n",
    "a.shape\n",
    "#a[0:63,34]=0\n",
    "#f=a[1]\n",
    "#f=0\n",
    "#a=np.insert(a,0,f,axis=1)\n",
    "#a=np.insert(a,0,f,axis=1)\n",
    "#a=np.insert(a,0,f,axis=1)\n",
    "#a=np.insert(a,0,f,axis=1)\n",
    "#a=np.insert(a,39,f,axis=1)\n",
    "#a=np.insert(a,40,f,axis=1)\n",
    "#a=np.insert(a,41,f,axis=1)\n",
    "#a=np.insert(a,42,f,axis=1)\n",
    "#a=np.insert(a,43,f,axis=1)\n",
    "\n",
    "a = skimage.transform.resize(a, (28,28), preserve_range=True)\n",
    "#pl.imshow(image,cmap='gray')\n",
    "a=a.reshape(784,1)\n",
    "classifier.predict(a.reshape(1,784))[0]"
   ]
  }
 ],
 "metadata": {
  "kernelspec": {
   "display_name": "Python 3",
   "language": "python",
   "name": "python3"
  },
  "language_info": {
   "codemirror_mode": {
    "name": "ipython",
    "version": 3
   },
   "file_extension": ".py",
   "mimetype": "text/x-python",
   "name": "python",
   "nbconvert_exporter": "python",
   "pygments_lexer": "ipython3",
   "version": "3.6.4"
  }
 },
 "nbformat": 4,
 "nbformat_minor": 2
}
