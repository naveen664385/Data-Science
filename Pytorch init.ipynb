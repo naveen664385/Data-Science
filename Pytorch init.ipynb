{
 "cells": [
  {
   "cell_type": "code",
   "execution_count": 1,
   "metadata": {},
   "outputs": [],
   "source": [
    "from __future__ import print_function\n",
    "import torch"
   ]
  },
  {
   "cell_type": "code",
   "execution_count": 12,
   "metadata": {},
   "outputs": [],
   "source": [
    "torch.empty(5,5)\n",
    "torch.rand(5,5)\n",
    "torch.zeros(5,5)\n",
    "a=torch.tensor([4,6])\n",
    "a=a.new_ones(10,5,dtype=torch.double)"
   ]
  },
  {
   "cell_type": "code",
   "execution_count": 19,
   "metadata": {},
   "outputs": [
    {
     "data": {
      "text/plain": [
       "torch.Size([10, 5])"
      ]
     },
     "execution_count": 19,
     "metadata": {},
     "output_type": "execute_result"
    }
   ],
   "source": [
    "b=torch.rand_like(a)\n",
    "b.size()"
   ]
  },
  {
   "cell_type": "code",
   "execution_count": 32,
   "metadata": {},
   "outputs": [
    {
     "data": {
      "text/plain": [
       "array([[5.77583084, 2.21066671, 6.47369024, 6.2603398 , 2.82845496],\n",
       "       [3.59569188, 4.52329662, 5.25146034, 9.71043628, 5.34848756],\n",
       "       [2.2527669 , 5.70217441, 4.9934606 , 7.43938243, 5.10185519],\n",
       "       [6.60722248, 9.41621955, 4.91321215, 8.18072665, 9.31519693],\n",
       "       [6.38175575, 5.71784393, 7.57277105, 2.24845758, 9.61079911],\n",
       "       [1.50935708, 8.27026484, 1.65329134, 5.09999114, 6.77883259],\n",
       "       [6.80905647, 3.84825765, 2.39093678, 6.72307031, 5.18048402],\n",
       "       [1.51699584, 6.34165583, 1.6708276 , 1.57038421, 4.10134393],\n",
       "       [3.49737778, 4.47350015, 1.6875679 , 4.8117802 , 3.05467741],\n",
       "       [5.99688088, 3.12803123, 4.47137153, 7.84651895, 1.06433793]])"
      ]
     },
     "execution_count": 32,
     "metadata": {},
     "output_type": "execute_result"
    }
   ],
   "source": [
    "c=torch.rand_like(a)\n",
    "torch.add(a,b,out=c)\n",
    "a.add_(b)\n",
    "a[1][1].item()\n",
    "a.numpy()"
   ]
  },
  {
   "cell_type": "code",
   "execution_count": 179,
   "metadata": {},
   "outputs": [
    {
     "name": "stdout",
     "output_type": "stream",
     "text": [
      "x= tensor([[1.],\n",
      "        [1.]], requires_grad=True) \n",
      " y= tensor([5., 6.], requires_grad=True)\n"
     ]
    }
   ],
   "source": [
    "x = torch.ones(2, 1, requires_grad=True)\n",
    "y = torch.tensor([5.0,6.0],requires_grad=True)\n",
    "print('x=',x,'\\n y=',y)"
   ]
  },
  {
   "cell_type": "code",
   "execution_count": 180,
   "metadata": {},
   "outputs": [],
   "source": [
    "z = x**3\n",
    "a =y**4\n",
    "out=z.mean()+a.mean()"
   ]
  },
  {
   "cell_type": "code",
   "execution_count": 181,
   "metadata": {},
   "outputs": [],
   "source": [
    "out.backward()"
   ]
  },
  {
   "cell_type": "code",
   "execution_count": 182,
   "metadata": {},
   "outputs": [
    {
     "name": "stdout",
     "output_type": "stream",
     "text": [
      "out to x derivative tensor([[1.5000],\n",
      "        [1.5000]]) \n",
      " out to y derivative tensor([250., 432.])\n"
     ]
    }
   ],
   "source": [
    "print('out to x derivative',x.grad,'\\n out to y derivative',y.grad)"
   ]
  },
  {
   "cell_type": "code",
   "execution_count": 38,
   "metadata": {},
   "outputs": [
    {
     "name": "stdout",
     "output_type": "stream",
     "text": [
      "<AddBackward0 object at 0x000000001B620978>\n"
     ]
    }
   ],
   "source": [
    "print(y.grad_fn)"
   ]
  },
  {
   "cell_type": "code",
   "execution_count": 68,
   "metadata": {},
   "outputs": [
    {
     "data": {
      "text/plain": [
       "tensor([[54., 54.],\n",
       "        [54., 54.]], grad_fn=<MulBackward0>)"
      ]
     },
     "execution_count": 68,
     "metadata": {},
     "output_type": "execute_result"
    }
   ],
   "source": [
    "z = y * y * 3*2\n",
    "out = z.mean()\n",
    "\n",
    "#print(z, out)\n",
    "z\n",
    "#out"
   ]
  },
  {
   "cell_type": "code",
   "execution_count": 60,
   "metadata": {},
   "outputs": [
    {
     "name": "stdout",
     "output_type": "stream",
     "text": [
      "tensor([[-1.5296, -1.1548],\n",
      "        [ 1.9409, -1.2178]])\n"
     ]
    }
   ],
   "source": [
    "a = torch.randn(2, 2)\n",
    "a\n",
    "#a = ((a * 3) / (a - 1))\n",
    "#print(a.requires_grad)\n",
    "a.requires_grad_(True)\n",
    "#print(a.requires_grad)\n",
    "#b = (a * a).sum()\n",
    "#print(b.grad_fn)\n",
    "#\n",
    "print(a)"
   ]
  },
  {
   "cell_type": "code",
   "execution_count": 64,
   "metadata": {},
   "outputs": [
    {
     "data": {
      "text/plain": [
       "tensor([[2.3398, 1.3335],\n",
       "        [3.7672, 1.4830]])"
      ]
     },
     "execution_count": 64,
     "metadata": {},
     "output_type": "execute_result"
    }
   ],
   "source": [
    "a*a"
   ]
  },
  {
   "cell_type": "code",
   "execution_count": 51,
   "metadata": {},
   "outputs": [],
   "source": [
    "out.backward()"
   ]
  },
  {
   "cell_type": "code",
   "execution_count": 90,
   "metadata": {},
   "outputs": [],
   "source": [
    "x.grad"
   ]
  },
  {
   "cell_type": "code",
   "execution_count": null,
   "metadata": {},
   "outputs": [],
   "source": []
  },
  {
   "cell_type": "code",
   "execution_count": null,
   "metadata": {},
   "outputs": [],
   "source": []
  }
 ],
 "metadata": {
  "kernelspec": {
   "display_name": "Python 3",
   "language": "python",
   "name": "python3"
  },
  "language_info": {
   "codemirror_mode": {
    "name": "ipython",
    "version": 3
   },
   "file_extension": ".py",
   "mimetype": "text/x-python",
   "name": "python",
   "nbconvert_exporter": "python",
   "pygments_lexer": "ipython3",
   "version": "3.6.4"
  }
 },
 "nbformat": 4,
 "nbformat_minor": 2
}
