{
 "cells": [
  {
   "cell_type": "code",
   "execution_count": 3,
   "metadata": {},
   "outputs": [],
   "source": [
    "#Importing all the required libraries\n",
    "import numpy as np\n",
    "import pandas as pd\n",
    "import keras as kr\n",
    "import scipy as sp\n",
    "import matplotlib as mpts\n",
    "import pylab as pl\n",
    "\n"
   ]
  },
  {
   "cell_type": "code",
   "execution_count": 5,
   "metadata": {},
   "outputs": [],
   "source": [
    "#to have the matplotlib graphs included in notebook\n",
    "%matplotlib inline"
   ]
  },
  {
   "cell_type": "code",
   "execution_count": 33,
   "metadata": {},
   "outputs": [],
   "source": [
    "raw_data = pd.read_csv('C:/Users/bnaveen3/Desktop/KAGGLE/handwritten_data_785.csv',header=None)"
   ]
  },
  {
   "cell_type": "code",
   "execution_count": 45,
   "metadata": {},
   "outputs": [
    {
     "data": {
      "text/plain": [
       "(372038, 785)"
      ]
     },
     "execution_count": 45,
     "metadata": {},
     "output_type": "execute_result"
    }
   ],
   "source": [
    "#take results\n",
    "results = raw_data[:][0]\n",
    "results.shape"
   ]
  },
  {
   "cell_type": "code",
   "execution_count": 49,
   "metadata": {},
   "outputs": [],
   "source": [
    "data =raw_data.drop(0,axis=1)"
   ]
  },
  {
   "cell_type": "code",
   "execution_count": 51,
   "metadata": {},
   "outputs": [
    {
     "data": {
      "text/plain": [
       "(372038, 784)"
      ]
     },
     "execution_count": 51,
     "metadata": {},
     "output_type": "execute_result"
    }
   ],
   "source": [
    "data.shape"
   ]
  },
  {
   "cell_type": "code",
   "execution_count": 118,
   "metadata": {},
   "outputs": [
    {
     "data": {
      "text/plain": [
       "(372038,)"
      ]
     },
     "execution_count": 118,
     "metadata": {},
     "output_type": "execute_result"
    },
    {
     "data": {
      "image/png": "[encoded data removed]",
      "text/plain": [
       "<Figure size 432x288 with 1 Axes>"
      ]
     },
     "metadata": {},
     "output_type": "display_data"
    }
   ],
   "source": [
    "i=304200\n",
    "a=data[i:i+1].values\n",
    "pl.imshow(a.reshape(28,28))\n",
    "mapping = pd.read_csv('C:/Users/bnaveen3/Desktop/mapping.csv',header=None)\n",
    "#mapping[results[202200]]\n",
    "mapping[mapping[1]==results[i]][0]\n",
    "results.shape"
   ]
  },
  {
   "cell_type": "code",
   "execution_count": 111,
   "metadata": {},
   "outputs": [],
   "source": [
    "import sklearn as sk"
   ]
  },
  {
   "cell_type": "code",
   "execution_count": 239,
   "metadata": {},
   "outputs": [],
   "source": [
    "from keras.models import Sequential\n",
    "\n",
    "model = Sequential()\n",
    "from keras.layers import Dense\n",
    "\n",
    "model.add(Dense(units=784, activation='relu', input_dim=784))\n",
    "model.add(Dense(units=100, activation='relu', input_dim=784))\n",
    "model.add(Dense(units=26, activation='softmax'))\n",
    "model.compile(loss='categorical_crossentropy',\n",
    "              optimizer='sgd',\n",
    "              metrics=['accuracy'])\n",
    "\n"
   ]
  },
  {
   "cell_type": "code",
   "execution_count": 240,
   "metadata": {},
   "outputs": [],
   "source": [
    "from keras.utils.np_utils import to_categorical\n",
    "categorical_results = to_categorical(results, num_classes=None)"
   ]
  },
  {
   "cell_type": "code",
   "execution_count": 253,
   "metadata": {},
   "outputs": [
    {
     "name": "stdout",
     "output_type": "stream",
     "text": [
      "Epoch 1/5\n",
      "372038/372038 [==============================] - 61s 163us/step - loss: 4.0132 - acc: 0.7320\n",
      "Epoch 2/5\n",
      "372038/372038 [==============================] - 60s 160us/step - loss: 0.9314 - acc: 0.8798\n",
      "Epoch 3/5\n",
      "372038/372038 [==============================] - 60s 161us/step - loss: 0.2907 - acc: 0.9345\n",
      "Epoch 4/5\n",
      "372038/372038 [==============================] - 60s 161us/step - loss: 0.2064 - acc: 0.9509\n",
      "Epoch 5/5\n",
      "372038/372038 [==============================] - 61s 163us/step - loss: 0.1625 - acc: 0.9609\n"
     ]
    },
    {
     "data": {
      "text/plain": [
       "<keras.callbacks.History at 0x1c2b0588>"
      ]
     },
     "execution_count": 253,
     "metadata": {},
     "output_type": "execute_result"
    }
   ],
   "source": [
    "model.fit(data, categorical_results, epochs=5, batch_size=784)"
   ]
  },
  {
   "cell_type": "code",
   "execution_count": 271,
   "metadata": {},
   "outputs": [
    {
     "name": "stdout",
     "output_type": "stream",
     "text": [
      "predicted 4    E\n",
      "Name: 0, dtype: object\n"
     ]
    },
    {
     "data": {
      "text/plain": [
       "array([[4.2659261e-16, 5.5200182e-14, 8.6327527e-13, 1.4519479e-20,\n",
       "        9.9999905e-01, 2.1300351e-12, 4.5122905e-14, 1.5304135e-19,\n",
       "        3.8424935e-23, 5.9684015e-11, 3.4076596e-11, 5.6167580e-19,\n",
       "        1.4173725e-20, 1.7659414e-20, 2.5286921e-24, 2.8075718e-17,\n",
       "        1.6720515e-17, 1.3633932e-13, 9.6334816e-07, 6.4520469e-16,\n",
       "        1.9203995e-23, 1.3356249e-26, 9.2619638e-24, 3.1642727e-11,\n",
       "        1.3585277e-18, 5.2869091e-09]], dtype=float32)"
      ]
     },
     "execution_count": 271,
     "metadata": {},
     "output_type": "execute_result"
    },
    {
     "data": {
      "image/png": "[encoded data removed]",
      "text/plain": [
       "<Figure size 432x288 with 1 Axes>"
      ]
     },
     "metadata": {},
     "output_type": "display_data"
    }
   ],
   "source": [
    "i=60090\n",
    "a=data[i:i+1].values\n",
    "b=model.predict(a)\n",
    "pl.imshow(a.reshape(28,28))\n",
    "mapping = pd.read_csv('C:/Users/bnaveen3/Desktop/mapping.csv',header=None)\n",
    "#\n",
    "#results.shape\n",
    "#print(b)\n",
    "x=0\n",
    "for k in range(25):\n",
    "    if k==25:\n",
    "        j=k-1\n",
    "    else:\n",
    "        j=k\n",
    "\n",
    "    if b[0][j] >b[0][x-1]:\n",
    "        x=j+1\n",
    "print('predicted',mapping[mapping[1]==x-1][0])\n",
    "b"
   ]
  },
  {
   "cell_type": "code",
   "execution_count": 48,
   "metadata": {},
   "outputs": [
    {
     "name": "stderr",
     "output_type": "stream",
     "text": [
      "C:\\ProgramData\\Anaconda3\\lib\\site-packages\\skimage\\transform\\_warps.py:84: UserWarning: The default mode, 'constant', will be changed to 'reflect' in skimage 0.15.\n",
      "  warn(\"The default mode, 'constant', will be changed to 'reflect' in \"\n"
     ]
    },
    {
     "data": {
      "text/plain": [
       "array([[9.77022059e-01, 9.94718137e-01, 9.92389706e-01, 9.94424020e-01,\n",
       "        1.00000000e+00, 1.00000000e+00, 1.00000000e+00, 1.00000000e+00,\n",
       "        1.00000000e+00, 1.00000000e+00, 1.00000000e+00, 1.00000000e+00,\n",
       "        1.00000000e+00, 1.00000000e+00, 1.00000000e+00, 1.00000000e+00,\n",
       "        1.00000000e+00, 1.00000000e+00, 1.00000000e+00, 1.00000000e+00,\n",
       "        1.00000000e+00, 1.00000000e+00, 1.00000000e+00, 1.00000000e+00,\n",
       "        1.00000000e+00, 1.00000000e+00, 1.00000000e+00, 1.00000000e+00,\n",
       "        1.00000000e+00, 1.00000000e+00],\n",
       "       [9.80882353e-01, 9.73541667e-01, 9.99044118e-01, 9.92647059e-01,\n",
       "        1.00000000e+00, 1.00000000e+00, 1.00000000e+00, 1.00000000e+00,\n",
       "        1.00000000e+00, 1.00000000e+00, 1.00000000e+00, 1.00000000e+00,\n",
       "        1.00000000e+00, 1.00000000e+00, 1.00000000e+00, 1.00000000e+00,\n",
       "        1.00000000e+00, 1.00000000e+00, 1.00000000e+00, 1.00000000e+00,\n",
       "        1.00000000e+00, 1.00000000e+00, 1.00000000e+00, 1.00000000e+00,\n",
       "        1.00000000e+00, 1.00000000e+00, 1.00000000e+00, 1.00000000e+00,\n",
       "        1.00000000e+00, 1.00000000e+00],\n",
       "       [9.94485294e-01, 9.74693627e-01, 9.71200980e-01, 1.00000000e+00,\n",
       "        1.00000000e+00, 1.00000000e+00, 1.00000000e+00, 1.00000000e+00,\n",
       "        1.00000000e+00, 1.00000000e+00, 1.00000000e+00, 1.00000000e+00,\n",
       "        1.00000000e+00, 1.00000000e+00, 1.00000000e+00, 1.00000000e+00,\n",
       "        1.00000000e+00, 1.00000000e+00, 1.00000000e+00, 1.00000000e+00,\n",
       "        1.00000000e+00, 1.00000000e+00, 1.00000000e+00, 1.00000000e+00,\n",
       "        1.00000000e+00, 1.00000000e+00, 1.00000000e+00, 1.00000000e+00,\n",
       "        1.00000000e+00, 1.00000000e+00],\n",
       "       [9.96200980e-01, 9.96531863e-01, 9.87426471e-01, 9.69730392e-01,\n",
       "        1.00000000e+00, 9.97156863e-01, 9.95024510e-01, 1.00000000e+00,\n",
       "        1.00000000e+00, 1.00000000e+00, 1.00000000e+00, 1.00000000e+00,\n",
       "        1.00000000e+00, 1.00000000e+00, 1.00000000e+00, 1.00000000e+00,\n",
       "        1.00000000e+00, 1.00000000e+00, 1.00000000e+00, 1.00000000e+00,\n",
       "        1.00000000e+00, 1.00000000e+00, 1.00000000e+00, 1.00000000e+00,\n",
       "        1.00000000e+00, 1.00000000e+00, 1.00000000e+00, 1.00000000e+00,\n",
       "        1.00000000e+00, 1.00000000e+00],\n",
       "       [9.97549020e-01, 9.95588235e-01, 1.00000000e+00, 9.84583333e-01,\n",
       "        9.60183824e-01, 9.99742647e-01, 9.89816176e-01, 1.00000000e+00,\n",
       "        1.00000000e+00, 1.00000000e+00, 1.00000000e+00, 1.00000000e+00,\n",
       "        1.00000000e+00, 1.00000000e+00, 1.00000000e+00, 1.00000000e+00,\n",
       "        1.00000000e+00, 1.00000000e+00, 1.00000000e+00, 1.00000000e+00,\n",
       "        1.00000000e+00, 1.00000000e+00, 1.00000000e+00, 1.00000000e+00,\n",
       "        1.00000000e+00, 1.00000000e+00, 1.00000000e+00, 1.00000000e+00,\n",
       "        1.00000000e+00, 1.00000000e+00],\n",
       "       [1.00000000e+00, 9.96078431e-01, 9.98333333e-01, 9.94583333e-01,\n",
       "        9.90698529e-01, 9.63161765e-01, 9.97414216e-01, 1.00000000e+00,\n",
       "        1.00000000e+00, 1.00000000e+00, 1.00000000e+00, 1.00000000e+00,\n",
       "        1.00000000e+00, 1.00000000e+00, 1.00000000e+00, 1.00000000e+00,\n",
       "        1.00000000e+00, 1.00000000e+00, 1.00000000e+00, 1.00000000e+00,\n",
       "        1.00000000e+00, 1.00000000e+00, 1.00000000e+00, 1.00000000e+00,\n",
       "        1.00000000e+00, 1.00000000e+00, 1.00000000e+00, 1.00000000e+00,\n",
       "        1.00000000e+00, 1.00000000e+00],\n",
       "       [9.95490196e-01, 1.00000000e+00, 9.99117647e-01, 9.97463235e-01,\n",
       "        9.88982843e-01, 9.92941176e-01, 9.66507353e-01, 1.00000000e+00,\n",
       "        1.00000000e+00, 1.00000000e+00, 1.00000000e+00, 1.00000000e+00,\n",
       "        1.00000000e+00, 1.00000000e+00, 1.00000000e+00, 1.00000000e+00,\n",
       "        1.00000000e+00, 1.00000000e+00, 1.00000000e+00, 1.00000000e+00,\n",
       "        1.00000000e+00, 1.00000000e+00, 1.00000000e+00, 1.00000000e+00,\n",
       "        1.00000000e+00, 1.00000000e+00, 1.00000000e+00, 1.00000000e+00,\n",
       "        1.00000000e+00, 1.00000000e+00],\n",
       "       [1.00000000e+00, 1.00000000e+00, 1.00000000e+00, 1.00000000e+00,\n",
       "        9.93627451e-01, 9.99509804e-01, 9.88296569e-01, 9.74509804e-01,\n",
       "        9.98897059e-01, 9.89705882e-01, 9.98713235e-01, 9.96200980e-01,\n",
       "        9.63541667e-01, 9.90992647e-01, 9.12009804e-01, 8.81556373e-01,\n",
       "        8.78982843e-01, 9.77144608e-01, 9.97303922e-01, 9.95526961e-01,\n",
       "        9.96139706e-01, 9.86703431e-01, 9.99877451e-01, 9.79411765e-01,\n",
       "        9.82720588e-01, 7.55330882e-01, 1.32352941e-02, 1.17034314e-02,\n",
       "        7.94669118e-01, 9.84987745e-01],\n",
       "       [1.00000000e+00, 1.00000000e+00, 1.00000000e+00, 1.00000000e+00,\n",
       "        9.95490196e-01, 9.97879902e-01, 1.00000000e+00, 9.92426471e-01,\n",
       "        9.65894608e-01, 9.96740196e-01, 9.90723039e-01, 5.92732843e-01,\n",
       "        4.44227941e-01, 8.72549020e-02, 2.04044118e-02, 2.30147059e-02,\n",
       "        1.86397059e-02, 3.89093137e-01, 9.84816176e-01, 9.94595588e-01,\n",
       "        9.86053922e-01, 9.98455882e-01, 9.88419118e-01, 9.86323529e-01,\n",
       "        5.67095588e-01, 5.33088235e-03, 3.86887255e-02, 1.07794118e-01,\n",
       "        5.58382353e-01, 9.88443627e-01],\n",
       "       [1.00000000e+00, 1.00000000e+00, 1.00000000e+00, 9.98786765e-01,\n",
       "        9.99571078e-01, 9.96482843e-01, 9.96078431e-01, 9.87316176e-01,\n",
       "        9.95404412e-01, 9.61446078e-01, 9.82058824e-01, 8.29656863e-03,\n",
       "        2.84803922e-02, 1.64215686e-03, 4.04411765e-04, 1.75612745e-02,\n",
       "        1.22794118e-02, 2.02205882e-03, 9.64828431e-02, 9.80122549e-01,\n",
       "        9.95674020e-01, 9.96176471e-01, 9.91519608e-01, 9.85036765e-01,\n",
       "        2.53786765e-01, 1.74754902e-02, 9.81740196e-02, 9.37389706e-01,\n",
       "        9.67647059e-01, 9.96715686e-01],\n",
       "       [1.00000000e+00, 1.00000000e+00, 1.00000000e+00, 1.00000000e+00,\n",
       "        1.00000000e+00, 1.00000000e+00, 1.00000000e+00, 9.98529412e-01,\n",
       "        9.94607843e-01, 9.97169118e-01, 9.61887255e-01, 2.57046569e-01,\n",
       "        7.47426471e-02, 4.99276961e-01, 1.28676471e-03, 1.64215686e-03,\n",
       "        7.15686275e-03, 1.09068627e-03, 6.47794118e-02, 9.90759804e-01,\n",
       "        9.96029412e-01, 9.81813725e-01, 9.63026961e-01, 9.88615196e-01,\n",
       "        3.74142157e-02, 2.91666667e-03, 1.00686275e-01, 9.99485294e-01,\n",
       "        9.97316176e-01, 1.00000000e+00],\n",
       "       [1.00000000e+00, 1.00000000e+00, 1.00000000e+00, 1.00000000e+00,\n",
       "        1.00000000e+00, 1.00000000e+00, 1.00000000e+00, 9.98529412e-01,\n",
       "        9.94607843e-01, 1.00000000e+00, 9.93480392e-01, 9.61556373e-01,\n",
       "        9.84901961e-01, 9.83321078e-01, 5.61274510e-03, 6.37254902e-03,\n",
       "        0.00000000e+00, 7.09558824e-03, 4.11764706e-03, 6.21360294e-01,\n",
       "        9.90404412e-01, 9.95845588e-01, 9.95539216e-01, 8.74632353e-01,\n",
       "        1.25000000e-02, 7.23039216e-04, 1.68897059e-01, 9.93602941e-01,\n",
       "        1.00000000e+00, 1.00000000e+00],\n",
       "       [1.00000000e+00, 1.00000000e+00, 1.00000000e+00, 1.00000000e+00,\n",
       "        1.00000000e+00, 1.00000000e+00, 1.00000000e+00, 1.00000000e+00,\n",
       "        9.96078431e-01, 9.96507353e-01, 9.96384804e-01, 9.99080882e-01,\n",
       "        9.26225490e-01, 9.95036765e-01, 0.00000000e+00, 1.96078431e-03,\n",
       "        7.35294118e-03, 4.28921569e-04, 1.20098039e-02, 1.26041667e-01,\n",
       "        9.86213235e-01, 9.77267157e-01, 9.98774510e-01, 6.85477941e-01,\n",
       "        6.61764706e-03, 6.43382353e-03, 3.24019608e-01, 9.95404412e-01,\n",
       "        9.94485294e-01, 1.00000000e+00],\n",
       "       [1.00000000e+00, 1.00000000e+00, 1.00000000e+00, 1.00000000e+00,\n",
       "        1.00000000e+00, 1.00000000e+00, 1.00000000e+00, 9.95061275e-01,\n",
       "        1.00000000e+00, 1.00000000e+00, 9.98750000e-01, 9.83198529e-01,\n",
       "        9.79901961e-01, 9.74522059e-01, 7.51838235e-02, 1.65441176e-03,\n",
       "        6.83823529e-03, 2.35294118e-03, 1.07107843e-02, 4.77941176e-03,\n",
       "        8.74129902e-01, 9.99889706e-01, 1.00000000e+00, 5.08321078e-01,\n",
       "        1.98529412e-02, 8.70098039e-04, 5.82022059e-01, 9.97438725e-01,\n",
       "        9.93308824e-01, 1.00000000e+00],\n",
       "       [1.00000000e+00, 1.00000000e+00, 1.00000000e+00, 1.00000000e+00,\n",
       "        1.00000000e+00, 1.00000000e+00, 1.00000000e+00, 1.00000000e+00,\n",
       "        1.00000000e+00, 1.00000000e+00, 9.98946078e-01, 9.97279412e-01,\n",
       "        9.90955882e-01, 9.23762255e-01, 7.15686275e-02, 1.03750000e-01,\n",
       "        6.89950980e-03, 5.82806373e-01, 1.81004902e-02, 8.17401961e-03,\n",
       "        5.14754902e-01, 9.85428922e-01, 9.87916667e-01, 2.72303922e-01,\n",
       "        8.45588235e-04, 2.99387255e-02, 8.46531863e-01, 9.86752451e-01,\n",
       "        1.00000000e+00, 1.00000000e+00],\n",
       "       [1.00000000e+00, 1.00000000e+00, 1.00000000e+00, 1.00000000e+00,\n",
       "        1.00000000e+00, 1.00000000e+00, 1.00000000e+00, 1.00000000e+00,\n",
       "        1.00000000e+00, 1.00000000e+00, 9.98455882e-01, 9.99889706e-01,\n",
       "        9.92953431e-01, 7.33615196e-01, 2.30392157e-03, 6.51593137e-02,\n",
       "        1.12965686e-01, 6.95404412e-01, 3.27205882e-03, 1.80147059e-03,\n",
       "        5.28799020e-02, 9.85281863e-01, 9.73210784e-01, 5.63602941e-02,\n",
       "        2.20588235e-04, 7.72058824e-04, 9.94056373e-01, 9.98639706e-01,\n",
       "        9.97058824e-01, 1.00000000e+00],\n",
       "       [1.00000000e+00, 1.00000000e+00, 1.00000000e+00, 1.00000000e+00,\n",
       "        1.00000000e+00, 1.00000000e+00, 1.00000000e+00, 1.00000000e+00,\n",
       "        1.00000000e+00, 1.00000000e+00, 1.00000000e+00, 9.90122549e-01,\n",
       "        9.89522059e-01, 3.89620098e-01, 2.67647059e-02, 1.77205882e-02,\n",
       "        5.98774510e-02, 7.87316176e-01, 5.29950980e-01, 2.02205882e-03,\n",
       "        9.48529412e-03, 8.98504902e-01, 9.69975490e-01, 1.55637255e-02,\n",
       "        1.10049020e-02, 5.95588235e-03, 9.92647059e-01, 9.97156863e-01,\n",
       "        9.98382353e-01, 1.00000000e+00],\n",
       "       [1.00000000e+00, 1.00000000e+00, 1.00000000e+00, 1.00000000e+00,\n",
       "        1.00000000e+00, 1.00000000e+00, 1.00000000e+00, 1.00000000e+00,\n",
       "        1.00000000e+00, 1.00000000e+00, 9.99142157e-01, 9.93137255e-01,\n",
       "        9.96875000e-01, 1.83762255e-01, 4.47303922e-03, 9.19117647e-03,\n",
       "        4.28921569e-03, 8.88357843e-01, 9.16789216e-01, 8.76225490e-03,\n",
       "        1.25000000e-02, 1.48590686e-01, 9.17708333e-01, 6.61764706e-03,\n",
       "        4.53431373e-03, 2.06495098e-02, 9.95833333e-01, 9.94791667e-01,\n",
       "        1.00000000e+00, 1.00000000e+00],\n",
       "       [1.00000000e+00, 1.00000000e+00, 1.00000000e+00, 1.00000000e+00,\n",
       "        1.00000000e+00, 1.00000000e+00, 1.00000000e+00, 1.00000000e+00,\n",
       "        1.00000000e+00, 1.00000000e+00, 1.00000000e+00, 9.81825980e-01,\n",
       "        9.85416667e-01, 1.06973039e-01, 6.70343137e-03, 1.92769608e-02,\n",
       "        1.74509804e-02, 9.21654412e-01, 9.93259804e-01, 5.24571078e-01,\n",
       "        1.65441176e-03, 1.96813725e-02, 8.92867647e-01, 1.43872549e-02,\n",
       "        6.28676471e-03, 1.12377451e-02, 9.89620098e-01, 9.82843137e-01,\n",
       "        9.97132353e-01, 1.00000000e+00],\n",
       "       [1.00000000e+00, 1.00000000e+00, 1.00000000e+00, 1.00000000e+00,\n",
       "        1.00000000e+00, 1.00000000e+00, 1.00000000e+00, 1.00000000e+00,\n",
       "        1.00000000e+00, 1.00000000e+00, 9.99019608e-01, 9.98529412e-01,\n",
       "        9.93247549e-01, 9.57598039e-02, 9.68137255e-04, 1.66911765e-02,\n",
       "        0.00000000e+00, 9.19215686e-01, 9.94791667e-01, 9.09080882e-01,\n",
       "        1.37781863e-01, 2.26715686e-02, 2.36764706e-02, 5.69852941e-03,\n",
       "        2.26102941e-02, 9.20588235e-02, 9.95502451e-01, 9.96017157e-01,\n",
       "        9.98051471e-01, 1.00000000e+00],\n",
       "       [1.00000000e+00, 1.00000000e+00, 1.00000000e+00, 1.00000000e+00,\n",
       "        1.00000000e+00, 1.00000000e+00, 1.00000000e+00, 1.00000000e+00,\n",
       "        1.00000000e+00, 1.00000000e+00, 9.97696078e-01, 9.99044118e-01,\n",
       "        1.00000000e+00, 4.99387255e-02, 5.51470588e-03, 0.00000000e+00,\n",
       "        9.71813725e-03, 9.67120098e-01, 9.91862745e-01, 9.80367647e-01,\n",
       "        3.30196078e-01, 1.41446078e-01, 2.27941176e-03, 3.66421569e-03,\n",
       "        1.00000000e-02, 5.26531863e-01, 9.89007353e-01, 9.85686275e-01,\n",
       "        1.00000000e+00, 1.00000000e+00],\n",
       "       [1.00000000e+00, 1.00000000e+00, 1.00000000e+00, 1.00000000e+00,\n",
       "        1.00000000e+00, 1.00000000e+00, 1.00000000e+00, 1.00000000e+00,\n",
       "        1.00000000e+00, 1.00000000e+00, 9.99938725e-01, 9.97549020e-01,\n",
       "        9.91862745e-01, 2.82843137e-02, 1.67279412e-02, 1.29044118e-02,\n",
       "        2.27941176e-02, 9.81678922e-01, 9.95661765e-01, 9.96997549e-01,\n",
       "        9.21348039e-01, 7.89215686e-03, 2.00428922e-01, 1.45588235e-02,\n",
       "        2.91666667e-02, 9.17953431e-01, 9.76519608e-01, 9.78357843e-01,\n",
       "        9.99926471e-01, 1.00000000e+00],\n",
       "       [1.00000000e+00, 1.00000000e+00, 1.00000000e+00, 1.00000000e+00,\n",
       "        1.00000000e+00, 1.00000000e+00, 1.00000000e+00, 1.00000000e+00,\n",
       "        1.00000000e+00, 1.00000000e+00, 9.99816176e-01, 9.94485294e-01,\n",
       "        9.94852941e-01, 1.09865196e-01, 3.92156863e-03, 1.65441176e-03,\n",
       "        2.16911765e-02, 9.78186275e-01, 9.88664216e-01, 9.85661765e-01,\n",
       "        9.91911765e-01, 5.19424020e-01, 1.20833333e-01, 1.83762255e-01,\n",
       "        3.75490196e-01, 9.72426471e-01, 9.93014706e-01, 9.93750000e-01,\n",
       "        9.96691176e-01, 1.00000000e+00],\n",
       "       [1.00000000e+00, 1.00000000e+00, 1.00000000e+00, 1.00000000e+00,\n",
       "        1.00000000e+00, 1.00000000e+00, 1.00000000e+00, 1.00000000e+00,\n",
       "        1.00000000e+00, 1.00000000e+00, 9.98651961e-01, 9.86078431e-01,\n",
       "        9.84779412e-01, 7.49889706e-01, 8.57843137e-03, 5.12254902e-03,\n",
       "        6.49632353e-02, 9.88970588e-01, 9.76997549e-01, 9.89399510e-01,\n",
       "        9.88688725e-01, 9.95686275e-01, 9.78345588e-01, 7.97708333e-01,\n",
       "        9.17083333e-01, 9.85943627e-01, 9.78468137e-01, 9.89571078e-01,\n",
       "        1.00000000e+00, 1.00000000e+00],\n",
       "       [1.00000000e+00, 1.00000000e+00, 1.00000000e+00, 1.00000000e+00,\n",
       "        1.00000000e+00, 1.00000000e+00, 1.00000000e+00, 1.00000000e+00,\n",
       "        1.00000000e+00, 1.00000000e+00, 9.98602941e-01, 1.00000000e+00,\n",
       "        9.95330882e-01, 1.00000000e+00, 9.46580882e-01, 5.77083333e-01,\n",
       "        9.57634804e-01, 9.93210784e-01, 1.00000000e+00, 1.00000000e+00,\n",
       "        1.00000000e+00, 9.96568627e-01, 9.96568627e-01, 1.00000000e+00,\n",
       "        9.82132353e-01, 9.81629902e-01, 1.00000000e+00, 9.89595588e-01,\n",
       "        1.00000000e+00, 1.00000000e+00]])"
      ]
     },
     "execution_count": 48,
     "metadata": {},
     "output_type": "execute_result"
    },
    {
     "data": {
      "image/png": "[encoded data removed]",
      "text/plain": [
       "<Figure size 432x288 with 1 Axes>"
      ]
     },
     "metadata": {},
     "output_type": "display_data"
    }
   ],
   "source": [
    "from skimage import io\n",
    "from skimage.transform import rescale, resize, downscale_local_mean\n",
    "image_N=io.imread('C:/Users/bnaveen3/Desktop/N.jpg',as_gray='true')\n",
    "image_N=resize(image_N,(200,200))\n",
    "image_N.shape\n",
    "import pylab as pl\n",
    "pl.imshow(image_N)\n",
    "image_N = image_N[0:25,0:30]\n",
    "pl.imshow(image_N)\n",
    "image_N"
   ]
  },
  {
   "cell_type": "code",
   "execution_count": 28,
   "metadata": {},
   "outputs": [
    {
     "name": "stderr",
     "output_type": "stream",
     "text": [
      "C:\\ProgramData\\Anaconda3\\lib\\site-packages\\skimage\\transform\\_warps.py:84: UserWarning: The default mode, 'constant', will be changed to 'reflect' in skimage 0.15.\n",
      "  warn(\"The default mode, 'constant', will be changed to 'reflect' in \"\n"
     ]
    },
    {
     "data": {
      "text/plain": [
       "<matplotlib.image.AxesImage at 0x7dbcd68>"
      ]
     },
     "execution_count": 28,
     "metadata": {},
     "output_type": "execute_result"
    },
    {
     "data": {
      "image/png": "[encoded data removed]",
      "text/plain": [
       "<Figure size 432x288 with 1 Axes>"
      ]
     },
     "metadata": {},
     "output_type": "display_data"
    }
   ],
   "source": []
  },
  {
   "cell_type": "code",
   "execution_count": 29,
   "metadata": {},
   "outputs": [
    {
     "data": {
      "text/plain": [
       "<matplotlib.image.AxesImage at 0xac33dd8>"
      ]
     },
     "execution_count": 29,
     "metadata": {},
     "output_type": "execute_result"
    },
    {
     "data": {
      "image/png": "[encoded data removed]",
      "text/plain": [
       "<Figure size 432x288 with 1 Axes>"
      ]
     },
     "metadata": {},
     "output_type": "display_data"
    }
   ],
   "source": []
  }
 ],
 "metadata": {
  "kernelspec": {
   "display_name": "Python 3",
   "language": "python",
   "name": "python3"
  },
  "language_info": {
   "codemirror_mode": {
    "name": "ipython",
    "version": 3
   },
   "file_extension": ".py",
   "mimetype": "text/x-python",
   "name": "python",
   "nbconvert_exporter": "python",
   "pygments_lexer": "ipython3",
   "version": "3.6.4"
  }
 },
 "nbformat": 4,
 "nbformat_minor": 2
}
