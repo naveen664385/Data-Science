{
 "cells": [
  {
   "cell_type": "code",
   "execution_count": 1,
   "metadata": {},
   "outputs": [],
   "source": [
    "import numpy as np\n",
    "import pandas as pd\n",
    "import sklearn as sk\n",
    "import matplotlib as mpt\n",
    "%matplotlib inline\n",
    "import matplotlib.pyplot as plt"
   ]
  },
  {
   "cell_type": "code",
   "execution_count": 2,
   "metadata": {},
   "outputs": [
    {
     "name": "stderr",
     "output_type": "stream",
     "text": [
      "b'Skipping line 15330: expected 41 fields, saw 42\\n'\n",
      "b'Skipping line 16813: expected 41 fields, saw 42\\nSkipping line 27119: expected 41 fields, saw 42\\n'\n",
      "b'Skipping line 34664: expected 41 fields, saw 42\\nSkipping line 39424: expected 41 fields, saw 42\\nSkipping line 39528: expected 41 fields, saw 42\\nSkipping line 48913: expected 41 fields, saw 42\\n'\n",
      "b'Skipping line 51722: expected 41 fields, saw 42\\nSkipping line 51740: expected 41 fields, saw 42\\n'\n",
      "b'Skipping line 72631: expected 41 fields, saw 42\\n'\n",
      "b'Skipping line 85129: expected 41 fields, saw 42\\n'\n",
      "b'Skipping line 117242: expected 41 fields, saw 42\\n'\n",
      "b'Skipping line 131531: expected 41 fields, saw 42\\n'\n",
      "b'Skipping line 182028: expected 41 fields, saw 42\\nSkipping line 182200: expected 41 fields, saw 42\\nSkipping line 195189: expected 41 fields, saw 42\\nSkipping line 195454: expected 41 fields, saw 42\\n'\n",
      "b'Skipping line 198693: expected 41 fields, saw 42\\nSkipping line 210373: expected 41 fields, saw 42\\n'\n",
      "b'Skipping line 247417: expected 41 fields, saw 42\\n'\n",
      "b'Skipping line 265715: expected 41 fields, saw 42\\nSkipping line 277286: expected 41 fields, saw 42\\n'\n",
      "b'Skipping line 297654: expected 41 fields, saw 42\\n'\n",
      "b'Skipping line 315763: expected 41 fields, saw 42\\nSkipping line 323694: expected 41 fields, saw 42\\nSkipping line 326908: expected 41 fields, saw 42\\n'\n",
      "b'Skipping line 331186: expected 41 fields, saw 42\\nSkipping line 337500: expected 41 fields, saw 42\\nSkipping line 340329: expected 41 fields, saw 42\\n'\n",
      "b'Skipping line 354773: expected 41 fields, saw 42\\nSkipping line 358355: expected 41 fields, saw 42\\n'\n",
      "b'Skipping line 365849: expected 41 fields, saw 42\\n'\n",
      "b'Skipping line 396970: expected 41 fields, saw 42\\n'\n"
     ]
    }
   ],
   "source": [
    "Rx_data = pd.read_csv('C:/Users/bnaveen3/Desktop/NEW_ML_DATA/RX_data_07_12_sep_2017.csv',skip_blank_lines=True,\n",
    "                      error_bad_lines=False)"
   ]
  },
  {
   "cell_type": "code",
   "execution_count": 3,
   "metadata": {},
   "outputs": [],
   "source": [
    "#Drop Duplicate collumns\n",
    "Rx_data=Rx_data.drop(columns=['ORGANIZATION_ID','ORGANIZATION_ID_1','INVENTORY_ITEM_ID_1'])"
   ]
  },
  {
   "cell_type": "code",
   "execution_count": 4,
   "metadata": {},
   "outputs": [
    {
     "data": {
      "text/plain": [
       "Index(['INVENTORY_ITEM_ID', 'AGE', 'IS_MALE', 'IS_RX_HFF', 'RX_NUMBER',\n",
       "       'PATIENT_ACCOUNT_ID', 'TOTAL_REFILLS', 'REMAINING_REFILLS',\n",
       "       'DATE_DISCONTINUED', 'DATE_EXPIRED', 'DATE_WRITTEN', 'DAW_CODE',\n",
       "       'DAYS_SUPPLY', 'DATE_LAST_FILLED', 'LAST_REFILL_MONTH',\n",
       "       'DATE_WRITTEN_MONTH', 'CARRIER', 'ACCOUNT', 'CAG_GROUP', 'STATE',\n",
       "       'POSTAL_CODE', 'COUNTY', 'CITY', 'DATE_FOR_NEXT_FILL', 'DESCRIPTION',\n",
       "       'NDC', 'GPI', 'IS_REFRIGIRATED', 'IS_DIABETIC', 'IS_RESPIRATORY',\n",
       "       'IS_CONTROLLED', 'IS_INJECTABLE', 'IS_OTC', 'IS_CROSSOVER',\n",
       "       'IS_ANCILLARY', 'IS_BRANDED', 'SUCCESS_FLAG', 'SPAN_AFTER_DISC'],\n",
       "      dtype='object')"
      ]
     },
     "execution_count": 4,
     "metadata": {},
     "output_type": "execute_result"
    }
   ],
   "source": [
    "Rx_data.columns\n",
    "#"
   ]
  },
  {
   "cell_type": "code",
   "execution_count": 16,
   "metadata": {},
   "outputs": [
    {
     "data": {
      "text/plain": [
       "61.0"
      ]
     },
     "execution_count": 16,
     "metadata": {},
     "output_type": "execute_result"
    },
    {
     "data": {
      "image/png": "[encoded data removed]",
      "text/plain": [
       "<Figure size 432x288 with 1 Axes>"
      ]
     },
     "metadata": {},
     "output_type": "display_data"
    }
   ],
   "source": [
    "Rx_data['TOTAL_REFILLS'].plot.box()\n",
    "np.median(Rx_data[Rx_data['AGE']<70]['AGE'])"
   ]
  },
  {
   "cell_type": "code",
   "execution_count": 46,
   "metadata": {},
   "outputs": [
    {
     "name": "stdout",
     "output_type": "stream",
     "text": [
      "total RX count 400677\n"
     ]
    },
    {
     "data": {
      "text/plain": [
       "Index(['INVENTORY_ITEM_ID', 'AGE', 'IS_MALE', 'IS_RX_HFF', 'RX_NUMBER',\n",
       "       'PATIENT_ACCOUNT_ID', 'TOTAL_REFILLS', 'REMAINING_REFILLS',\n",
       "       'DATE_DISCONTINUED', 'DATE_EXPIRED', 'DATE_WRITTEN', 'DAW_CODE',\n",
       "       'DAYS_SUPPLY', 'DATE_LAST_FILLED', 'LAST_REFILL_MONTH',\n",
       "       'DATE_WRITTEN_MONTH', 'CARRIER', 'ACCOUNT', 'CAG_GROUP', 'STATE',\n",
       "       'POSTAL_CODE', 'COUNTY', 'CITY', 'DATE_FOR_NEXT_FILL', 'DESCRIPTION',\n",
       "       'NDC', 'GPI', 'IS_REFRIGIRATED', 'IS_DIABETIC', 'IS_RESPIRATORY',\n",
       "       'IS_CONTROLLED', 'IS_INJECTABLE', 'IS_OTC', 'IS_CROSSOVER',\n",
       "       'IS_ANCILLARY', 'IS_BRANDED', 'SUCCESS_FLAG', 'SPAN_AFTER_DISC'],\n",
       "      dtype='object')"
      ]
     },
     "execution_count": 46,
     "metadata": {},
     "output_type": "execute_result"
    }
   ],
   "source": [
    "#To check how many are above 70 in the data\n",
    "print('total RX count',Rx_data['RX_NUMBER'].count())\n",
    "Rx_data[Rx_data['AGE']>70]['AGE'].value_counts().sum()\n",
    "Rx_data.columns"
   ]
  },
  {
   "cell_type": "code",
   "execution_count": 122,
   "metadata": {},
   "outputs": [
    {
     "data": {
      "text/plain": [
       "Y         107024\n",
       "IGNORE     34930\n",
       "N          33196\n",
       "Name: SUCCESS_FLAG, dtype: int64"
      ]
     },
     "execution_count": 122,
     "metadata": {},
     "output_type": "execute_result"
    }
   ],
   "source": [
    "#SUCCESS SCENARIOS ACROSS AGE\n",
    "Rx_data=Rx_data.fillna('')\n",
    "#plt.plot(Rx_data['SUCCESS_FLAG'],Rx_data['IS_REFRIGIRATED'],'.')\n",
    "#Rx_data[['SUCCESS_FLAG','AGE']][1:100].plot.bar()\n",
    "Rx_data[Rx_data['SUCCESS_FLAG']=='Y']['TOTAL_REFILLS'].value_counts()\n",
    "Rx_data[Rx_data['IS_MALE']==1]['SUCCESS_FLAG'].value_counts()\n",
    "#IS_REFRIGIRATED is doesnt have direct impact (50-50)\n",
    "#IS_DIABETIC --65% are non adherence if diabetic\n",
    "#IS_RESPIRATORY --75% are non adherent if respiratory\n",
    "#IS_CONTROLLED --10% re non adherent\n",
    "#IS_INJECTABLE --all non adherent\n",
    "#IS_CROSSOVER --80% are non adherent\n",
    "#IS_ANCILLARY --75% are dherent\n",
    "#IS_BRANDED -- 25% are non adherent\n",
    "#if not branded--20% are non adherent\n",
    "#Rx_data['INVENTORY_ITEM_ID'].count()\n",
    "#if HFF ---adherent more more than 90%"
   ]
  },
  {
   "cell_type": "code",
   "execution_count": 123,
   "metadata": {},
   "outputs": [
    {
     "data": {
      "text/plain": [
       "Y          240226\n",
       "IGNORE      79540\n",
       "N           76220\n",
       "UNKNOWN         4\n",
       "Name: SUCCESS_FLAG, dtype: int64"
      ]
     },
     "execution_count": 123,
     "metadata": {},
     "output_type": "execute_result"
    }
   ],
   "source": [
    "Rx_data['SUCCESS_FLAG'].value_counts()\n",
    "#around 25% are non adherent"
   ]
  },
  {
   "cell_type": "code",
   "execution_count": 110,
   "metadata": {},
   "outputs": [
    {
     "ename": "ValueError",
     "evalue": "labels ['REMAINING_REFILLS' 'DATE_DISCONTINUED'] not contained in axis",
     "output_type": "error",
     "traceback": [
      "\u001b[1;31m---------------------------------------------------------------------------\u001b[0m",
      "\u001b[1;31mValueError\u001b[0m                                Traceback (most recent call last)",
      "\u001b[1;32m<ipython-input-110-79c8c879775e>\u001b[0m in \u001b[0;36m<module>\u001b[1;34m()\u001b[0m\n\u001b[0;32m      1\u001b[0m \u001b[1;31m#REMAINING_REFILLS AND DATE_DISCONTINUED can be ignored completely as they directly decide\u001b[0m\u001b[1;33m\u001b[0m\u001b[1;33m\u001b[0m\u001b[0m\n\u001b[1;32m----> 2\u001b[1;33m \u001b[0mRx_data\u001b[0m\u001b[1;33m=\u001b[0m\u001b[0mRx_data\u001b[0m\u001b[1;33m.\u001b[0m\u001b[0mdrop\u001b[0m\u001b[1;33m(\u001b[0m\u001b[1;33m[\u001b[0m\u001b[1;34m'REMAINING_REFILLS'\u001b[0m\u001b[1;33m,\u001b[0m\u001b[1;34m'DATE_DISCONTINUED'\u001b[0m\u001b[1;33m]\u001b[0m\u001b[1;33m,\u001b[0m\u001b[0maxis\u001b[0m\u001b[1;33m=\u001b[0m\u001b[1;36m1\u001b[0m\u001b[1;33m)\u001b[0m\u001b[1;33m\u001b[0m\u001b[0m\n\u001b[0m",
      "\u001b[1;32mC:\\ProgramData\\Anaconda3\\lib\\site-packages\\pandas\\core\\generic.py\u001b[0m in \u001b[0;36mdrop\u001b[1;34m(self, labels, axis, index, columns, level, inplace, errors)\u001b[0m\n\u001b[0;32m   2528\u001b[0m         \u001b[1;32mfor\u001b[0m \u001b[0maxis\u001b[0m\u001b[1;33m,\u001b[0m \u001b[0mlabels\u001b[0m \u001b[1;32min\u001b[0m \u001b[0maxes\u001b[0m\u001b[1;33m.\u001b[0m\u001b[0mitems\u001b[0m\u001b[1;33m(\u001b[0m\u001b[1;33m)\u001b[0m\u001b[1;33m:\u001b[0m\u001b[1;33m\u001b[0m\u001b[0m\n\u001b[0;32m   2529\u001b[0m             \u001b[1;32mif\u001b[0m \u001b[0mlabels\u001b[0m \u001b[1;32mis\u001b[0m \u001b[1;32mnot\u001b[0m \u001b[1;32mNone\u001b[0m\u001b[1;33m:\u001b[0m\u001b[1;33m\u001b[0m\u001b[0m\n\u001b[1;32m-> 2530\u001b[1;33m                 \u001b[0mobj\u001b[0m \u001b[1;33m=\u001b[0m \u001b[0mobj\u001b[0m\u001b[1;33m.\u001b[0m\u001b[0m_drop_axis\u001b[0m\u001b[1;33m(\u001b[0m\u001b[0mlabels\u001b[0m\u001b[1;33m,\u001b[0m \u001b[0maxis\u001b[0m\u001b[1;33m,\u001b[0m \u001b[0mlevel\u001b[0m\u001b[1;33m=\u001b[0m\u001b[0mlevel\u001b[0m\u001b[1;33m,\u001b[0m \u001b[0merrors\u001b[0m\u001b[1;33m=\u001b[0m\u001b[0merrors\u001b[0m\u001b[1;33m)\u001b[0m\u001b[1;33m\u001b[0m\u001b[0m\n\u001b[0m\u001b[0;32m   2531\u001b[0m \u001b[1;33m\u001b[0m\u001b[0m\n\u001b[0;32m   2532\u001b[0m         \u001b[1;32mif\u001b[0m \u001b[0minplace\u001b[0m\u001b[1;33m:\u001b[0m\u001b[1;33m\u001b[0m\u001b[0m\n",
      "\u001b[1;32mC:\\ProgramData\\Anaconda3\\lib\\site-packages\\pandas\\core\\generic.py\u001b[0m in \u001b[0;36m_drop_axis\u001b[1;34m(self, labels, axis, level, errors)\u001b[0m\n\u001b[0;32m   2560\u001b[0m                 \u001b[0mnew_axis\u001b[0m \u001b[1;33m=\u001b[0m \u001b[0maxis\u001b[0m\u001b[1;33m.\u001b[0m\u001b[0mdrop\u001b[0m\u001b[1;33m(\u001b[0m\u001b[0mlabels\u001b[0m\u001b[1;33m,\u001b[0m \u001b[0mlevel\u001b[0m\u001b[1;33m=\u001b[0m\u001b[0mlevel\u001b[0m\u001b[1;33m,\u001b[0m \u001b[0merrors\u001b[0m\u001b[1;33m=\u001b[0m\u001b[0merrors\u001b[0m\u001b[1;33m)\u001b[0m\u001b[1;33m\u001b[0m\u001b[0m\n\u001b[0;32m   2561\u001b[0m             \u001b[1;32melse\u001b[0m\u001b[1;33m:\u001b[0m\u001b[1;33m\u001b[0m\u001b[0m\n\u001b[1;32m-> 2562\u001b[1;33m                 \u001b[0mnew_axis\u001b[0m \u001b[1;33m=\u001b[0m \u001b[0maxis\u001b[0m\u001b[1;33m.\u001b[0m\u001b[0mdrop\u001b[0m\u001b[1;33m(\u001b[0m\u001b[0mlabels\u001b[0m\u001b[1;33m,\u001b[0m \u001b[0merrors\u001b[0m\u001b[1;33m=\u001b[0m\u001b[0merrors\u001b[0m\u001b[1;33m)\u001b[0m\u001b[1;33m\u001b[0m\u001b[0m\n\u001b[0m\u001b[0;32m   2563\u001b[0m             \u001b[0mdropped\u001b[0m \u001b[1;33m=\u001b[0m \u001b[0mself\u001b[0m\u001b[1;33m.\u001b[0m\u001b[0mreindex\u001b[0m\u001b[1;33m(\u001b[0m\u001b[1;33m**\u001b[0m\u001b[1;33m{\u001b[0m\u001b[0maxis_name\u001b[0m\u001b[1;33m:\u001b[0m \u001b[0mnew_axis\u001b[0m\u001b[1;33m}\u001b[0m\u001b[1;33m)\u001b[0m\u001b[1;33m\u001b[0m\u001b[0m\n\u001b[0;32m   2564\u001b[0m             \u001b[1;32mtry\u001b[0m\u001b[1;33m:\u001b[0m\u001b[1;33m\u001b[0m\u001b[0m\n",
      "\u001b[1;32mC:\\ProgramData\\Anaconda3\\lib\\site-packages\\pandas\\core\\indexes\\base.py\u001b[0m in \u001b[0;36mdrop\u001b[1;34m(self, labels, errors)\u001b[0m\n\u001b[0;32m   3742\u001b[0m             \u001b[1;32mif\u001b[0m \u001b[0merrors\u001b[0m \u001b[1;33m!=\u001b[0m \u001b[1;34m'ignore'\u001b[0m\u001b[1;33m:\u001b[0m\u001b[1;33m\u001b[0m\u001b[0m\n\u001b[0;32m   3743\u001b[0m                 raise ValueError('labels %s not contained in axis' %\n\u001b[1;32m-> 3744\u001b[1;33m                                  labels[mask])\n\u001b[0m\u001b[0;32m   3745\u001b[0m             \u001b[0mindexer\u001b[0m \u001b[1;33m=\u001b[0m \u001b[0mindexer\u001b[0m\u001b[1;33m[\u001b[0m\u001b[1;33m~\u001b[0m\u001b[0mmask\u001b[0m\u001b[1;33m]\u001b[0m\u001b[1;33m\u001b[0m\u001b[0m\n\u001b[0;32m   3746\u001b[0m         \u001b[1;32mreturn\u001b[0m \u001b[0mself\u001b[0m\u001b[1;33m.\u001b[0m\u001b[0mdelete\u001b[0m\u001b[1;33m(\u001b[0m\u001b[0mindexer\u001b[0m\u001b[1;33m)\u001b[0m\u001b[1;33m\u001b[0m\u001b[0m\n",
      "\u001b[1;31mValueError\u001b[0m: labels ['REMAINING_REFILLS' 'DATE_DISCONTINUED'] not contained in axis"
     ]
    }
   ],
   "source": [
    "#REMAINING_REFILLS AND DATE_DISCONTINUED can be ignored completely as they directly decide\n",
    "Rx_data=Rx_data.drop(['REMAINING_REFILLS','DATE_DISCONTINUED'],axis=1)"
   ]
  },
  {
   "cell_type": "code",
   "execution_count": null,
   "metadata": {},
   "outputs": [],
   "source": []
  },
  {
   "cell_type": "code",
   "execution_count": 115,
   "metadata": {},
   "outputs": [
    {
     "data": {
      "text/plain": [
       "395990"
      ]
     },
     "execution_count": 115,
     "metadata": {},
     "output_type": "execute_result"
    }
   ],
   "source": [
    "#TOTAL_REFILLS IS VERY HIGH FOR FEW rows SO dropping them from the data\n",
    "Rx_data=Rx_data.drop(Rx_data[Rx_data['TOTAL_REFILLS']>10].index,axis=0)\n",
    "Rx_data['INVENTORY_ITEM_ID'].count()"
   ]
  },
  {
   "cell_type": "code",
   "execution_count": 136,
   "metadata": {},
   "outputs": [
    {
     "data": {
      "text/plain": [
       "316446"
      ]
     },
     "execution_count": 136,
     "metadata": {},
     "output_type": "execute_result"
    }
   ],
   "source": [
    "#removed Ignore rows and uknowns rows as they should not be considered\n",
    "Rx_data=Rx_data.drop(Rx_data[Rx_data['SUCCESS_FLAG']=='IGNORE'].index,axis=0)\n",
    "Rx_data=Rx_data.drop(Rx_data[Rx_data['SUCCESS_FLAG']=='UNKNOWN'].index,axis=0)\n",
    "Rx_data['INVENTORY_ITEM_ID'].count()"
   ]
  },
  {
   "cell_type": "code",
   "execution_count": 125,
   "metadata": {},
   "outputs": [
    {
     "name": "stderr",
     "output_type": "stream",
     "text": [
      "C:\\ProgramData\\Anaconda3\\lib\\site-packages\\IPython\\core\\interactiveshell.py:2728: DtypeWarning: Columns (9,10) have mixed types. Specify dtype option on import or set low_memory=False.\n",
      "  interactivity=interactivity, compiler=compiler, result=result)\n"
     ]
    }
   ],
   "source": [
    "#orders tagged to RX\n",
    "order_data = pd.read_csv('C:/Users/bnaveen3/Desktop/NEW_ML_DATA/orders_07_12_sep_2017.csv',skip_blank_lines=True,\n",
    "                      error_bad_lines=False)"
   ]
  },
  {
   "cell_type": "code",
   "execution_count": 130,
   "metadata": {},
   "outputs": [],
   "source": [
    "#fill Nan with blanls\n",
    "order_data=order_data.fillna('')"
   ]
  },
  {
   "cell_type": "code",
   "execution_count": 134,
   "metadata": {},
   "outputs": [
    {
     "data": {
      "text/plain": [
       "RX_NUMBER                 997713\n",
       "PATIENT_ACCOUNT_ID        997713\n",
       "RX_TYPE                   997713\n",
       "MEMBER_LEVEL_HFF_FLAG     997713\n",
       "LANGUAGE_NAME             997713\n",
       "COPAY                     997713\n",
       "CASH                      997713\n",
       "PRIMARY_PLAN_PAYMENT      997713\n",
       "SECONDARY_PLAN_PAYMENT    997713\n",
       "FLOW_STATUS_CODE          997713\n",
       "CREATION_DATE             997713\n",
       "dtype: int64"
      ]
     },
     "execution_count": 134,
     "metadata": {},
     "output_type": "execute_result"
    }
   ],
   "source": [
    "#make Nulls of hff flag as N\n",
    "order_data[order_data['MEMBER_LEVEL_HFF_FLAG']=='']['MEMBER_LEVEL_HFF_FLAG'] ='N'\n",
    "order_data.count()"
   ]
  },
  {
   "cell_type": "code",
   "execution_count": 137,
   "metadata": {},
   "outputs": [],
   "source": [
    "#try to get ordered quantity for all the orders then load the orders again\n",
    "#try matching with icd codes to rx if possible and get the new data nad repeat everything\n",
    "#combine both data frames by taking average of (avg(copay)/(ordered qty))*100 --same for prim and sec payment\n",
    "#create just alergy indicator and try using that try dates also to know when was that active\n",
    "#finish this by 25th Night\n",
    "#create sythetic variables\n",
    "#start using models then"
   ]
  },
  {
   "cell_type": "code",
   "execution_count": null,
   "metadata": {},
   "outputs": [],
   "source": []
  }
 ],
 "metadata": {
  "kernelspec": {
   "display_name": "Python 3",
   "language": "python",
   "name": "python3"
  },
  "language_info": {
   "codemirror_mode": {
    "name": "ipython",
    "version": 3
   },
   "file_extension": ".py",
   "mimetype": "text/x-python",
   "name": "python",
   "nbconvert_exporter": "python",
   "pygments_lexer": "ipython3",
   "version": "3.6.4"
  }
 },
 "nbformat": 4,
 "nbformat_minor": 2
}
