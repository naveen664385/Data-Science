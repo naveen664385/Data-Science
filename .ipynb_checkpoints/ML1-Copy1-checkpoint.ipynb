{
 "cells": [
  {
   "cell_type": "code",
   "execution_count": 2,
   "metadata": {
    "collapsed": true
   },
   "outputs": [],
   "source": [
    "import pandas as pd"
   ]
  },
  {
   "cell_type": "code",
   "execution_count": 4,
   "metadata": {
    "collapsed": true
   },
   "outputs": [],
   "source": [
    "import numpy as np"
   ]
  },
  {
   "cell_type": "code",
   "execution_count": 5,
   "metadata": {
    "collapsed": true
   },
   "outputs": [],
   "source": [
    "from sklearn import datasets"
   ]
  },
  {
   "cell_type": "code",
   "execution_count": 7,
   "metadata": {
    "collapsed": true
   },
   "outputs": [],
   "source": [
    "import matplotlib.pyplot as pt"
   ]
  },
  {
   "cell_type": "code",
   "execution_count": 43,
   "metadata": {},
   "outputs": [
    {
     "data": {
      "text/plain": [
       "<module 'matplotlib.image' from 'C:\\\\ProgramData\\\\Anaconda3\\\\lib\\\\site-packages\\\\matplotlib\\\\image.py'>"
      ]
     },
     "execution_count": 43,
     "metadata": {},
     "output_type": "execute_result"
    },
    {
     "data": {
      "image/png": "[encoded data removed]",
      "text/plain": [
       "<matplotlib.figure.Figure at 0xe2d12e8>"
      ]
     },
     "metadata": {},
     "output_type": "display_data"
    }
   ],
   "source": [
    "import pylab as pl\n",
    "images=datasets.load_digits().images\n",
    "images.shape\n",
    "pl.gray()\n",
    "\n",
    "%matplotlib inline\n",
    "pl.matshow(images[1202],interpolation=\"nearest\")\n",
    "pl.title('Naveen')\n",
    "#pl.grid(True)\n",
    "import matplotlib.image as mpimg\n",
    "mpimg"
   ]
  },
  {
   "cell_type": "code",
   "execution_count": 63,
   "metadata": {},
   "outputs": [
    {
     "ename": "AttributeError",
     "evalue": "module 'pylab' has no attribute 'YlOrBr'",
     "output_type": "error",
     "traceback": [
      "\u001b[1;31m---------------------------------------------------------------------------\u001b[0m",
      "\u001b[1;31mAttributeError\u001b[0m                            Traceback (most recent call last)",
      "\u001b[1;32m<ipython-input-63-44655daede76>\u001b[0m in \u001b[0;36m<module>\u001b[1;34m()\u001b[0m\n\u001b[0;32m      2\u001b[0m \u001b[0mimages\u001b[0m\u001b[1;33m\u001b[0m\u001b[0m\n\u001b[0;32m      3\u001b[0m \u001b[0mpl\u001b[0m\u001b[1;33m.\u001b[0m\u001b[0mmatshow\u001b[0m\u001b[1;33m(\u001b[0m\u001b[0mimages\u001b[0m\u001b[1;33m[\u001b[0m\u001b[1;36m123\u001b[0m\u001b[1;33m]\u001b[0m\u001b[1;33m)\u001b[0m\u001b[1;33m\u001b[0m\u001b[0m\n\u001b[1;32m----> 4\u001b[1;33m \u001b[0mpl\u001b[0m\u001b[1;33m.\u001b[0m\u001b[0mYlOrBr\u001b[0m\u001b[1;33m(\u001b[0m\u001b[1;33m)\u001b[0m\u001b[1;33m\u001b[0m\u001b[0m\n\u001b[0m",
      "\u001b[1;31mAttributeError\u001b[0m: module 'pylab' has no attribute 'YlOrBr'"
     ]
    },
    {
     "data": {
      "image/png": "[encoded data removed]",
      "text/plain": [
       "<matplotlib.figure.Figure at 0xe4990f0>"
      ]
     },
     "metadata": {},
     "output_type": "display_data"
    }
   ],
   "source": [
    "images=datasets.load_digits().images\n",
    "images\n",
    "pl.matshow(images[123])"
   ]
  },
  {
   "cell_type": "code",
   "execution_count": 108,
   "metadata": {},
   "outputs": [
    {
     "data": {
      "text/plain": [
       "<matplotlib.colorbar.Colorbar at 0x11a58630>"
      ]
     },
     "execution_count": 108,
     "metadata": {},
     "output_type": "execute_result"
    },
    {
     "data": {
      "image/png": "[encoded data removed]",
      "text/plain": [
       "<matplotlib.figure.Figure at 0x11a586a0>"
      ]
     },
     "metadata": {},
     "output_type": "display_data"
    }
   ],
   "source": [
    "pl.matshow(images[1], cmap=\"ocean\")\n",
    "pl.colorbar()\n",
    "#pl.normal()"
   ]
  },
  {
   "cell_type": "code",
   "execution_count": 112,
   "metadata": {},
   "outputs": [
    {
     "data": {
      "text/plain": [
       "(1797,)"
      ]
     },
     "execution_count": 112,
     "metadata": {},
     "output_type": "execute_result"
    }
   ],
   "source": [
    "target=datasets.load_digits().target\n",
    "target.shape"
   ]
  },
  {
   "cell_type": "code",
   "execution_count": null,
   "metadata": {
    "collapsed": true
   },
   "outputs": [],
   "source": []
  },
  {
   "cell_type": "code",
   "execution_count": 343,
   "metadata": {},
   "outputs": [
    {
     "name": "stdout",
     "output_type": "stream",
     "text": [
      "0.915414579855\n",
      "Not matched 5\n",
      "Not matched 19\n",
      "Not matched 27\n",
      "Not matched 43\n",
      "Not matched 46\n",
      "Not matched 52\n",
      "Not matched 53\n",
      "Not matched 57\n",
      "Not matched 69\n",
      "Not matched 74\n",
      "Not matched 81\n",
      "Not matched 95\n",
      "Not matched 103\n",
      "Not matched 119\n",
      "Not matched 120\n",
      "Not matched 123\n",
      "Not matched 125\n",
      "Not matched 129\n",
      "Not matched 141\n",
      "Not matched 158\n",
      "Not matched 194\n",
      "Not matched 198\n",
      "Not matched 215\n",
      "Not matched 217\n",
      "Not matched 224\n",
      "Not matched 237\n",
      "Not matched 238\n",
      "Not matched 239\n",
      "Not matched 241\n",
      "Not matched 248\n",
      "Not matched 249\n",
      "Not matched 253\n",
      "Not matched 254\n",
      "Not matched 261\n",
      "Not matched 307\n",
      "Not matched 312\n",
      "Not matched 375\n",
      "Not matched 378\n",
      "Not matched 381\n",
      "Not matched 402\n",
      "Not matched 409\n",
      "Not matched 414\n",
      "Not matched 430\n",
      "Not matched 480\n",
      "Not matched 481\n",
      "Not matched 492\n",
      "Not matched 502\n",
      "Not matched 504\n",
      "Not matched 518\n",
      "Not matched 539\n",
      "Not matched 545\n",
      "Not matched 547\n",
      "Not matched 563\n",
      "Not matched 573\n",
      "Not matched 578\n",
      "Not matched 586\n",
      "Not matched 607\n",
      "Not matched 637\n",
      "Not matched 664\n",
      "Not matched 665\n",
      "Not matched 673\n",
      "Not matched 678\n",
      "Not matched 689\n",
      "Not matched 690\n",
      "Not matched 719\n",
      "Not matched 732\n",
      "Not matched 765\n",
      "Not matched 769\n",
      "Not matched 774\n",
      "Not matched 779\n",
      "Not matched 780\n",
      "Not matched 784\n",
      "Not matched 792\n",
      "Not matched 794\n",
      "Not matched 813\n",
      "Not matched 814\n",
      "Not matched 829\n",
      "Not matched 836\n",
      "Not matched 843\n",
      "Not matched 876\n",
      "Not matched 887\n",
      "Not matched 890\n",
      "Not matched 898\n",
      "Not matched 899\n",
      "Not matched 903\n",
      "Not matched 905\n",
      "Not matched 955\n",
      "Not matched 965\n",
      "Not matched 975\n",
      "Not matched 985\n",
      "Not matched 997\n",
      "Not matched 1018\n",
      "Not matched 1037\n",
      "Not matched 1058\n",
      "Not matched 1060\n",
      "Not matched 1080\n",
      "Not matched 1096\n",
      "Not matched 1100\n",
      "Not matched 1103\n",
      "Not matched 1132\n",
      "Not matched 1145\n",
      "Not matched 1149\n",
      "Not matched 1155\n",
      "Not matched 1186\n",
      "Not matched 1195\n",
      "Not matched 1197\n",
      "Not matched 1210\n",
      "Not matched 1264\n",
      "Not matched 1299\n",
      "Not matched 1313\n",
      "Not matched 1344\n",
      "Not matched 1391\n",
      "Not matched 1393\n",
      "Not matched 1423\n",
      "Not matched 1433\n",
      "Not matched 1440\n",
      "Not matched 1453\n",
      "Not matched 1459\n",
      "Not matched 1468\n",
      "Not matched 1486\n",
      "Not matched 1488\n",
      "Not matched 1491\n",
      "Not matched 1500\n",
      "Not matched 1537\n",
      "Not matched 1538\n",
      "Not matched 1540\n",
      "Not matched 1543\n",
      "Not matched 1551\n",
      "Not matched 1552\n",
      "Not matched 1571\n",
      "Not matched 1573\n",
      "Not matched 1581\n",
      "Not matched 1605\n",
      "Not matched 1611\n",
      "Not matched 1628\n",
      "Not matched 1635\n",
      "Not matched 1649\n",
      "Not matched 1656\n",
      "Not matched 1660\n",
      "Not matched 1662\n",
      "Not matched 1665\n",
      "Not matched 1666\n",
      "Not matched 1690\n",
      "Not matched 1692\n",
      "Not matched 1712\n",
      "Not matched 1726\n",
      "Not matched 1727\n",
      "Not matched 1728\n",
      "Not matched 1729\n",
      "Not matched 1741\n",
      "Not matched 1753\n",
      "Not matched 1765\n",
      "152\n"
     ]
    }
   ],
   "source": [
    "import random as rd\n",
    "from sklearn import datasets\n",
    "digits=datasets.load_digits()\n",
    "x=digits.images.reshape(len(digits.images),-1)\n",
    "dimages=digits.images\n",
    "dtarget=digits.target\n",
    "ddata=digits.data\n",
    "dimages.shape\n",
    "len(x)\n",
    "sample_index=rd.sample(range(len(x)),350)#220 is number of indices\n",
    "valid_index=[i for i in range(len(x))]\n",
    "sample_images=[x[i] for i in sample_index]\n",
    "valid_images=[x[i] for i in valid_index]\n",
    "sample_target=[dtarget[i] for i in sample_index]\n",
    "valid_target=[dtarget[i] for i in valid_index]\n",
    "from sklearn import ensemble\n",
    "classifier=ensemble.RandomForestClassifier()\n",
    "classifier.fit(sample_images,sample_target)\n",
    "score=classifier.score(valid_images,valid_target)\n",
    "print(score)\n",
    "j=0\n",
    "for i in range(1797):\n",
    "    final=classifier.predict(x[i].reshape(1,-1))\n",
    "    if dtarget[i]==final[0]:\n",
    "        pass\n",
    "    else:\n",
    "        j=j+1\n",
    "        print('Not matched',i)\n",
    "print (j)\n",
    "        \n"
   ]
  },
  {
   "cell_type": "code",
   "execution_count": null,
   "metadata": {},
   "outputs": [],
   "source": [
    "i=125\n",
    "pl.imshow(images[i],cmap='gray')\n",
    "pl.rcParams['figure.figsize'] = (15,15)\n",
    "final=classifier.predict(x[i].reshape(1,-1))\n",
    "print('pedicted',final[0])\n",
    "print('actual',dtarget[i])\n",
    "\n"
   ]
  },
  {
   "cell_type": "code",
   "execution_count": null,
   "metadata": {
    "collapsed": true
   },
   "outputs": [],
   "source": [
    "i=125\n",
    "pl.imshow(images[i],cmap='gray')\n",
    "pl.rcParams['figure.figsize'] = (15,15)\n",
    "final=classifier.predict(x[i].reshape(1,-1))\n",
    "print('pedicted',final[0])\n",
    "print('actual',dtarget[i])"
   ]
  },
  {
   "cell_type": "code",
   "execution_count": null,
   "metadata": {
    "collapsed": true
   },
   "outputs": [],
   "source": [
    "i=125\n",
    "pl.imshow(images[i],cmap='gray')\n",
    "#pl.rcParams['figure.figsize'] = (15,15)\n",
    "final=classifier.predict(x[i].reshape(1,-1))\n",
    "print('pedicted',final[0])\n",
    "print('actual',dtarget[i])"
   ]
  }
 ],
 "metadata": {
  "kernelspec": {
   "display_name": "Python 3",
   "language": "python",
   "name": "python3"
  },
  "language_info": {
   "codemirror_mode": {
    "name": "ipython",
    "version": 3
   },
   "file_extension": ".py",
   "mimetype": "text/x-python",
   "name": "python",
   "nbconvert_exporter": "python",
   "pygments_lexer": "ipython3",
   "version": "3.6.3"
  }
 },
 "nbformat": 4,
 "nbformat_minor": 2
}
