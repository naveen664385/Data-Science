{
 "cells": [
  {
   "cell_type": "code",
   "execution_count": 1,
   "metadata": {},
   "outputs": [],
   "source": [
    "import numpy as np\n",
    "import pandas as pd\n",
    "import sklearn as sk\n",
    "import matplotlib as mpt\n",
    "%matplotlib inline\n",
    "import matplotlib.pyplot as plt"
   ]
  },
  {
   "cell_type": "code",
   "execution_count": 2,
   "metadata": {
    "collapsed": true
   },
   "outputs": [
    {
     "name": "stderr",
     "output_type": "stream",
     "text": [
      "b'Skipping line 15330: expected 41 fields, saw 42\\n'\n",
      "b'Skipping line 16813: expected 41 fields, saw 42\\nSkipping line 27119: expected 41 fields, saw 42\\n'\n",
      "b'Skipping line 34664: expected 41 fields, saw 42\\nSkipping line 39424: expected 41 fields, saw 42\\nSkipping line 39528: expected 41 fields, saw 42\\nSkipping line 48913: expected 41 fields, saw 42\\n'\n",
      "b'Skipping line 51722: expected 41 fields, saw 42\\nSkipping line 51740: expected 41 fields, saw 42\\n'\n",
      "b'Skipping line 72631: expected 41 fields, saw 42\\n'\n",
      "b'Skipping line 85129: expected 41 fields, saw 42\\n'\n",
      "b'Skipping line 117242: expected 41 fields, saw 42\\n'\n",
      "b'Skipping line 131531: expected 41 fields, saw 42\\n'\n",
      "b'Skipping line 182028: expected 41 fields, saw 42\\nSkipping line 182200: expected 41 fields, saw 42\\nSkipping line 195189: expected 41 fields, saw 42\\nSkipping line 195454: expected 41 fields, saw 42\\n'\n",
      "b'Skipping line 198693: expected 41 fields, saw 42\\nSkipping line 210373: expected 41 fields, saw 42\\n'\n",
      "b'Skipping line 247417: expected 41 fields, saw 42\\n'\n",
      "b'Skipping line 265715: expected 41 fields, saw 42\\nSkipping line 277286: expected 41 fields, saw 42\\n'\n",
      "b'Skipping line 297654: expected 41 fields, saw 42\\n'\n",
      "b'Skipping line 315763: expected 41 fields, saw 42\\nSkipping line 323694: expected 41 fields, saw 42\\nSkipping line 326908: expected 41 fields, saw 42\\n'\n",
      "b'Skipping line 331186: expected 41 fields, saw 42\\nSkipping line 337500: expected 41 fields, saw 42\\nSkipping line 340329: expected 41 fields, saw 42\\n'\n",
      "b'Skipping line 354773: expected 41 fields, saw 42\\nSkipping line 358355: expected 41 fields, saw 42\\n'\n",
      "b'Skipping line 365849: expected 41 fields, saw 42\\n'\n",
      "b'Skipping line 396970: expected 41 fields, saw 42\\n'\n",
      "C:\\ProgramData\\Anaconda3\\lib\\site-packages\\IPython\\core\\interactiveshell.py:2728: DtypeWarning: Columns (9,10) have mixed types. Specify dtype option on import or set low_memory=False.\n",
      "  interactivity=interactivity, compiler=compiler, result=result)\n"
     ]
    }
   ],
   "source": [
    "Rx_data = pd.read_csv('C:/Users/bnaveen3/Desktop/NEW_ML_DATA/RX_data_07_12_sep_2017.csv',skip_blank_lines=True,\n",
    "                      error_bad_lines=False)\n",
    "#orders tagged to RX\n",
    "order_data = pd.read_csv('C:/Users/bnaveen3/Desktop/NEW_ML_DATA/orders_07_12_sep_2017.csv',skip_blank_lines=True,\n",
    "                      error_bad_lines=False)"
   ]
  },
  {
   "cell_type": "code",
   "execution_count": 3,
   "metadata": {
    "collapsed": true
   },
   "outputs": [
    {
     "name": "stdout",
     "output_type": "stream",
     "text": [
      "number of orders 997713  number of rxs 400677\n"
     ]
    },
    {
     "name": "stderr",
     "output_type": "stream",
     "text": [
      "C:\\ProgramData\\Anaconda3\\lib\\site-packages\\ipykernel_launcher.py:8: SettingWithCopyWarning: \n",
      "A value is trying to be set on a copy of a slice from a DataFrame.\n",
      "Try using .loc[row_indexer,col_indexer] = value instead\n",
      "\n",
      "See the caveats in the documentation: http://pandas.pydata.org/pandas-docs/stable/indexing.html#indexing-view-versus-copy\n",
      "  \n"
     ]
    }
   ],
   "source": [
    "#Drop Duplicate collumns\n",
    "#Rx_data=Rx_data.drop(columns=['ORGANIZATION_ID','ORGANIZATION_ID_1','INVENTORY_ITEM_ID_1'])\n",
    "order_data=order_data.fillna('')\n",
    "Rx_data.columns\n",
    "#fill blanks wherever nan is there\n",
    "Rx_data=Rx_data.fillna('')\n",
    "#make Nulls of hff flag as N\n",
    "order_data[order_data['MEMBER_LEVEL_HFF_FLAG']=='']['MEMBER_LEVEL_HFF_FLAG'] ='N'\n",
    "print('number of orders',order_data['RX_NUMBER'].count(),' number of rxs',Rx_data['RX_NUMBER'].count())"
   ]
  },
  {
   "cell_type": "code",
   "execution_count": 4,
   "metadata": {},
   "outputs": [],
   "source": [
    "order_data.columns\n",
    "#create a combined dateset for rxs and order..if rx has multiple records then take aggregate\n",
    "order_data_static=order_data[['RX_NUMBER', 'RX_TYPE', 'MEMBER_LEVEL_HFF_FLAG',\n",
    "       'LANGUAGE_NAME']]\n",
    "order_data_to_be_aggregated =order_data[['RX_NUMBER','COPAY', 'CASH', 'PRIMARY_PLAN_PAYMENT',\n",
    "       'SECONDARY_PLAN_PAYMENT']]"
   ]
  },
  {
   "cell_type": "code",
   "execution_count": 5,
   "metadata": {},
   "outputs": [],
   "source": [
    "\n",
    "order_data_static =order_data_static.groupby(['RX_NUMBER']).max()\n"
   ]
  },
  {
   "cell_type": "code",
   "execution_count": 6,
   "metadata": {},
   "outputs": [],
   "source": [
    "#ADD copay and other parameters for copay\n",
    "order_data_aggregated=order_data_to_be_aggregated.groupby(['RX_NUMBER']).sum()\n",
    "Rx_data=Rx_data.join(order_data_aggregated, on='RX_NUMBER')"
   ]
  },
  {
   "cell_type": "code",
   "execution_count": 79,
   "metadata": {},
   "outputs": [],
   "source": [
    "\n",
    "order_data_static.columns\n",
    "final_file=Rx_data.join(order_data_static,on='RX_NUMBER')"
   ]
  },
  {
   "cell_type": "code",
   "execution_count": 80,
   "metadata": {},
   "outputs": [],
   "source": [
    "#replacinf hff flag from Null to N\n",
    "final_file['MEMBER_LEVEL_HFF_FLAG']=final_file['MEMBER_LEVEL_HFF_FLAG'].replace('','N')\n",
    "final_file['MEMBER_LEVEL_HFF_FLAG']\n",
    "final_file['IS_RX_HFF']=final_file['IS_RX_HFF'].replace('',0)\n",
    "final_file=final_file.drop(['ORGANIZATION_ID_1','INVENTORY_ITEM_ID_1'],axis=1)\n",
    "\n",
    "#REMAINING_REFILLS AND DATE_DISCONTINUED can be ignored completely as they directly decide\n",
    "#Rx_data=Rx_data.drop(['REMAINING_REFILLS','DATE_DISCONTINUED'],axis=1)"
   ]
  },
  {
   "cell_type": "code",
   "execution_count": 81,
   "metadata": {},
   "outputs": [
    {
     "name": "stdout",
     "output_type": "stream",
     "text": [
      "Lower Limit -2.5  and upper limit is 8.5 iqr 3.0 q1 1.0 q2 2.0 q3 4.0\n"
     ]
    },
    {
     "data": {
      "image/png": "[encoded data removed]",
      "text/plain": [
       "<Figure size 432x288 with 1 Axes>"
      ]
     },
     "metadata": {},
     "output_type": "display_data"
    }
   ],
   "source": [
    "#check total refills column for completely wrong or not usefull data\n",
    "final_file['TOTAL_REFILLS'].plot.box()\n",
    "q2=np.median(Rx_data['TOTAL_REFILLS'])\n",
    "q1=np.median(Rx_data[Rx_data['TOTAL_REFILLS']<=q2]['TOTAL_REFILLS'])\n",
    "q3=np.median(Rx_data[Rx_data['TOTAL_REFILLS']>=q2]['TOTAL_REFILLS'])\n",
    "iqr=q3-q1\n",
    "ll=q2-1.5*iqr\n",
    "ul=q3+1.5*iqr\n",
    "print('Lower Limit',ll,' and upper limit is',ul,'iqr',iqr,'q1',q1,'q2',q2,'q3',q3)\n",
    "final_file=final_file.drop(Rx_data[Rx_data['TOTAL_REFILLS']>ul].index,axis=0)"
   ]
  },
  {
   "cell_type": "code",
   "execution_count": 82,
   "metadata": {},
   "outputs": [],
   "source": [
    "#Drop column description,INVENTORY_ITEM_ID as these are mere seqences\n",
    "final_file=final_file.drop(['DESCRIPTION','INVENTORY_ITEM_ID'],axis=1)\n"
   ]
  },
  {
   "cell_type": "code",
   "execution_count": 83,
   "metadata": {},
   "outputs": [
    {
     "name": "stdout",
     "output_type": "stream",
     "text": [
      "Lower Limit 47.5  and upper limit is 99.5 iqr 15.0 q1 62.0 q2 70.0 q3 77.0\n"
     ]
    },
    {
     "data": {
      "text/plain": [
       "Index(['ORGANIZATION_ID', 'AGE', 'IS_MALE', 'IS_RX_HFF', 'RX_NUMBER',\n",
       "       'PATIENT_ACCOUNT_ID', 'TOTAL_REFILLS', 'REMAINING_REFILLS',\n",
       "       'DATE_DISCONTINUED', 'DATE_EXPIRED', 'DATE_WRITTEN', 'DAW_CODE',\n",
       "       'DAYS_SUPPLY', 'DATE_LAST_FILLED', 'LAST_REFILL_MONTH',\n",
       "       'DATE_WRITTEN_MONTH', 'CARRIER', 'ACCOUNT', 'CAG_GROUP', 'STATE',\n",
       "       'POSTAL_CODE', 'COUNTY', 'CITY', 'DATE_FOR_NEXT_FILL', 'NDC', 'GPI',\n",
       "       'IS_REFRIGIRATED', 'IS_DIABETIC', 'IS_RESPIRATORY', 'IS_CONTROLLED',\n",
       "       'IS_INJECTABLE', 'IS_OTC', 'IS_CROSSOVER', 'IS_ANCILLARY', 'IS_BRANDED',\n",
       "       'SUCCESS_FLAG', 'SPAN_AFTER_DISC', 'COPAY', 'CASH',\n",
       "       'PRIMARY_PLAN_PAYMENT', 'SECONDARY_PLAN_PAYMENT', 'RX_TYPE',\n",
       "       'MEMBER_LEVEL_HFF_FLAG', 'LANGUAGE_NAME'],\n",
       "      dtype='object')"
      ]
     },
     "execution_count": 83,
     "metadata": {},
     "output_type": "execute_result"
    },
    {
     "data": {
      "image/png": "[encoded data removed]",
      "text/plain": [
       "<Figure size 432x288 with 1 Axes>"
      ]
     },
     "metadata": {},
     "output_type": "display_data"
    }
   ],
   "source": [
    "#start analyzing data from here\n",
    "final_file['AGE'].plot.box()\n",
    "q2=np.median(Rx_data['AGE'])\n",
    "q1=np.median(Rx_data[Rx_data['AGE']<=q2]['AGE'])\n",
    "q3=np.median(Rx_data[Rx_data['AGE']>=q2]['AGE'])\n",
    "iqr=q3-q1\n",
    "ll=q2-1.5*iqr\n",
    "ul=q3+1.5*iqr\n",
    "print('Lower Limit',ll,' and upper limit is',ul,'iqr',iqr,'q1',q1,'q2',q2,'q3',q3)\n",
    "final_file.columns\n",
    "#upper limit of age is 99 and lower is 35 but lets see if it has impact with other parameters like drug details"
   ]
  },
  {
   "cell_type": "code",
   "execution_count": 84,
   "metadata": {},
   "outputs": [],
   "source": [
    "\n",
    "final_file['SPAN_AFTER_DISC']=final_file['SPAN_AFTER_DISC'].replace('',0)"
   ]
  },
  {
   "cell_type": "code",
   "execution_count": 85,
   "metadata": {},
   "outputs": [
    {
     "data": {
      "image/png": "[encoded data removed]",
      "text/plain": [
       "<Figure size 432x288 with 1 Axes>"
      ]
     },
     "metadata": {},
     "output_type": "display_data"
    }
   ],
   "source": [
    "\n",
    "final_file['SPAN_AFTER_DISC'].plot.box()\n",
    "#reset index\n",
    "final_file=final_file.reset_index(drop=True)\n",
    "#span after discontinue is how much after the rx discontinued new one is created. if its created after 10 days that dat is wrong"
   ]
  },
  {
   "cell_type": "code",
   "execution_count": 15,
   "metadata": {
    "collapsed": true
   },
   "outputs": [
    {
     "data": {
      "text/plain": [
       "0                 ADELPHI\n",
       "1                 Mosheim\n",
       "2                   Bronx\n",
       "3               Plainview\n",
       "4             Carson City\n",
       "5             San Antonio\n",
       "6             OLMSTED TWP\n",
       "7              Lauderhill\n",
       "8             Bay Minette\n",
       "9             Brownsville\n",
       "10                  MINOA\n",
       "11            Carson City\n",
       "12              San Ramon\n",
       "13               Glendale\n",
       "14                CHICAGO\n",
       "15        NORTH LAS VEGAS\n",
       "16             FORT WORTH\n",
       "17               Hopewell\n",
       "18              LEWISBURG\n",
       "19           SCHERERVILLE\n",
       "20                ARCADIA\n",
       "21             Cincinnati\n",
       "22                Sunbury\n",
       "23                  Ewing\n",
       "24            SOUTHINGTON\n",
       "25           Taylorsville\n",
       "26                GRESHAM\n",
       "27              Irvington\n",
       "28               New York\n",
       "29                Waldorf\n",
       "               ...       \n",
       "395682      College Point\n",
       "395683           Holladay\n",
       "395684             COLFAX\n",
       "395685        KANSAS CITY\n",
       "395686          CHARLOTTE\n",
       "395687         Huntsville\n",
       "395688       DANIELSVILLE\n",
       "395689             SARVER\n",
       "395690       LITTLE RIVER\n",
       "395691         Montgomery\n",
       "395692         Monticello\n",
       "395693            WASILLA\n",
       "395694         OCEAN CITY\n",
       "395695           NEW YORK\n",
       "395696          LAS VEGAS\n",
       "395697            Whiting\n",
       "395698          Henderson\n",
       "395699            SHIRLEY\n",
       "395700    North Las Vegas\n",
       "395701         Huntsville\n",
       "395702         RICHARDSON\n",
       "395703           Harrison\n",
       "395704         MANCHESTER\n",
       "395705        Winter Park\n",
       "395706               ERIE\n",
       "395707        Centreville\n",
       "395708             PARKER\n",
       "395709           COLUMBIA\n",
       "395710     SOUTH SETAUKET\n",
       "395711                Lee\n",
       "Name: CITY, Length: 395712, dtype: object"
      ]
     },
     "execution_count": 15,
     "metadata": {},
     "output_type": "execute_result"
    }
   ],
   "source": [
    "#final_file[['CITY','SUCCESS_FLAG','RX_NUMBER']].groupby(['CITY','SUCCESS_FLAG']).count()\n",
    "#for i in range(30000,30500):#len(final_file)-1\n",
    " #   final_file.loc[i,'CITY']=final_file.loc[i,'CITY'].upper()\n",
    "    #exit\n",
    "\n",
    "\n",
    "#final_file.loc[39,'CITY']\n",
    "final_file['CITY']"
   ]
  },
  {
   "cell_type": "code",
   "execution_count": 86,
   "metadata": {},
   "outputs": [
    {
     "data": {
      "text/plain": [
       "'MARINE CITY'"
      ]
     },
     "execution_count": 86,
     "metadata": {},
     "output_type": "execute_result"
    }
   ],
   "source": [
    "final_file.loc[100,'CITY'].upper()"
   ]
  },
  {
   "cell_type": "code",
   "execution_count": 87,
   "metadata": {
    "scrolled": true
   },
   "outputs": [
    {
     "data": {
      "text/html": [
       "<div>\n",
       "<style scoped>\n",
       "    .dataframe tbody tr th:only-of-type {\n",
       "        vertical-align: middle;\n",
       "    }\n",
       "\n",
       "    .dataframe tbody tr th {\n",
       "        vertical-align: top;\n",
       "    }\n",
       "\n",
       "    .dataframe thead th {\n",
       "        text-align: right;\n",
       "    }\n",
       "</style>\n",
       "<table border=\"1\" class=\"dataframe\">\n",
       "  <thead>\n",
       "    <tr style=\"text-align: right;\">\n",
       "      <th></th>\n",
       "      <th>CAG_GROUP</th>\n",
       "      <th>CITY</th>\n",
       "      <th>CARRIER</th>\n",
       "      <th>ACCOUNT</th>\n",
       "    </tr>\n",
       "  </thead>\n",
       "  <tbody>\n",
       "    <tr>\n",
       "      <th>0</th>\n",
       "      <td>071240300420042</td>\n",
       "      <td>ADELPHI</td>\n",
       "      <td>UHCACIS01</td>\n",
       "      <td>F</td>\n",
       "    </tr>\n",
       "    <tr>\n",
       "      <th>1</th>\n",
       "      <td>IS5820001A</td>\n",
       "      <td>Mosheim</td>\n",
       "      <td>PDPIND</td>\n",
       "      <td>P0101100000000</td>\n",
       "    </tr>\n",
       "    <tr>\n",
       "      <th>2</th>\n",
       "      <td>00008</td>\n",
       "      <td>Bronx</td>\n",
       "      <td>PSI1700</td>\n",
       "      <td>A</td>\n",
       "    </tr>\n",
       "    <tr>\n",
       "      <th>3</th>\n",
       "      <td>IR7444021AC2</td>\n",
       "      <td>Plainview</td>\n",
       "      <td>MPDOVA</td>\n",
       "      <td>M43003RAM82075</td>\n",
       "    </tr>\n",
       "    <tr>\n",
       "      <th>4</th>\n",
       "      <td>IS5921003K</td>\n",
       "      <td>Carson City</td>\n",
       "      <td>PDPIND</td>\n",
       "      <td>P0337300000000</td>\n",
       "    </tr>\n",
       "    <tr>\n",
       "      <th>5</th>\n",
       "      <td>IH4590017UMH</td>\n",
       "      <td>San Antonio</td>\n",
       "      <td>MPDOVA</td>\n",
       "      <td>M2B037HCFAC8</td>\n",
       "    </tr>\n",
       "    <tr>\n",
       "      <th>6</th>\n",
       "      <td>071187800290029</td>\n",
       "      <td>OLMSTED TWP</td>\n",
       "      <td>UHCACIS01</td>\n",
       "      <td>A</td>\n",
       "    </tr>\n",
       "    <tr>\n",
       "      <th>7</th>\n",
       "      <td>090671200180018</td>\n",
       "      <td>Lauderhill</td>\n",
       "      <td>UHCACNHP1</td>\n",
       "      <td>F</td>\n",
       "    </tr>\n",
       "    <tr>\n",
       "      <th>8</th>\n",
       "      <td>IH0151023A1</td>\n",
       "      <td>Bay Minette</td>\n",
       "      <td>MPDOVA</td>\n",
       "      <td>M04001BHM02250</td>\n",
       "    </tr>\n",
       "    <tr>\n",
       "      <th>9</th>\n",
       "      <td>F20AL</td>\n",
       "      <td>Brownsville</td>\n",
       "      <td>PSI2016</td>\n",
       "      <td>GE7</td>\n",
       "    </tr>\n",
       "    <tr>\n",
       "      <th>10</th>\n",
       "      <td>GS5805002E</td>\n",
       "      <td>MINOA</td>\n",
       "      <td>PDPIND</td>\n",
       "      <td>P0280324907002</td>\n",
       "    </tr>\n",
       "    <tr>\n",
       "      <th>11</th>\n",
       "      <td>IS5921003K</td>\n",
       "      <td>Carson City</td>\n",
       "      <td>PDPIND</td>\n",
       "      <td>P0337300000000</td>\n",
       "    </tr>\n",
       "    <tr>\n",
       "      <th>12</th>\n",
       "      <td>020022800600060</td>\n",
       "      <td>San Ramon</td>\n",
       "      <td>UHCACIS01</td>\n",
       "      <td>A</td>\n",
       "    </tr>\n",
       "    <tr>\n",
       "      <th>13</th>\n",
       "      <td>IH3379027A2</td>\n",
       "      <td>Glendale</td>\n",
       "      <td>MPDOVA</td>\n",
       "      <td>M1K001NYC13000</td>\n",
       "    </tr>\n",
       "    <tr>\n",
       "      <th>14</th>\n",
       "      <td>IS5820001A</td>\n",
       "      <td>CHICAGO</td>\n",
       "      <td>PDPIND</td>\n",
       "      <td>P0101600000000</td>\n",
       "    </tr>\n",
       "    <tr>\n",
       "      <th>15</th>\n",
       "      <td>10000905A001</td>\n",
       "      <td>NORTH LAS VEGAS</td>\n",
       "      <td>MPDNV</td>\n",
       "      <td>H2931002</td>\n",
       "    </tr>\n",
       "    <tr>\n",
       "      <th>16</th>\n",
       "      <td>IH4590017AS2</td>\n",
       "      <td>FORT WORTH</td>\n",
       "      <td>MPDOVA</td>\n",
       "      <td>M2B041HCFA99</td>\n",
       "    </tr>\n",
       "    <tr>\n",
       "      <th>17</th>\n",
       "      <td>IS5820001A</td>\n",
       "      <td>Hopewell</td>\n",
       "      <td>PDPIND</td>\n",
       "      <td>P0100600000000</td>\n",
       "    </tr>\n",
       "    <tr>\n",
       "      <th>18</th>\n",
       "      <td>090394001050105</td>\n",
       "      <td>LEWISBURG</td>\n",
       "      <td>UHCACIS01</td>\n",
       "      <td>A</td>\n",
       "    </tr>\n",
       "    <tr>\n",
       "      <th>19</th>\n",
       "      <td>IS5820001A</td>\n",
       "      <td>SCHERERVILLE</td>\n",
       "      <td>PDPIND</td>\n",
       "      <td>P0101400000000</td>\n",
       "    </tr>\n",
       "    <tr>\n",
       "      <th>20</th>\n",
       "      <td>070140300500050</td>\n",
       "      <td>ARCADIA</td>\n",
       "      <td>UHCACIS01</td>\n",
       "      <td>A</td>\n",
       "    </tr>\n",
       "    <tr>\n",
       "      <th>21</th>\n",
       "      <td>IS5820001A</td>\n",
       "      <td>Cincinnati</td>\n",
       "      <td>PDPIND</td>\n",
       "      <td>P0101300000000</td>\n",
       "    </tr>\n",
       "    <tr>\n",
       "      <th>22</th>\n",
       "      <td>IS5820001A</td>\n",
       "      <td>Sunbury</td>\n",
       "      <td>PDPIND</td>\n",
       "      <td>P0100500000000</td>\n",
       "    </tr>\n",
       "    <tr>\n",
       "      <th>23</th>\n",
       "      <td></td>\n",
       "      <td>Ewing</td>\n",
       "      <td>SONJCOM</td>\n",
       "      <td></td>\n",
       "    </tr>\n",
       "    <tr>\n",
       "      <th>24</th>\n",
       "      <td>IS5820001A</td>\n",
       "      <td>SOUTHINGTON</td>\n",
       "      <td>PDPIND</td>\n",
       "      <td>P0100200000000</td>\n",
       "    </tr>\n",
       "    <tr>\n",
       "      <th>25</th>\n",
       "      <td>IH4604037A2</td>\n",
       "      <td>Taylorsville</td>\n",
       "      <td>MPDOVA</td>\n",
       "      <td>M2C011SLC42022</td>\n",
       "    </tr>\n",
       "    <tr>\n",
       "      <th>26</th>\n",
       "      <td>IS5820001A</td>\n",
       "      <td>GRESHAM</td>\n",
       "      <td>PDPIND</td>\n",
       "      <td>P0102900000000</td>\n",
       "    </tr>\n",
       "    <tr>\n",
       "      <th>27</th>\n",
       "      <td>IS5820001A</td>\n",
       "      <td>Irvington</td>\n",
       "      <td>PDPIND</td>\n",
       "      <td>P0100300000000</td>\n",
       "    </tr>\n",
       "    <tr>\n",
       "      <th>28</th>\n",
       "      <td>IH3379027A2</td>\n",
       "      <td>New York</td>\n",
       "      <td>MPDOVA</td>\n",
       "      <td>M1K001NYC13000</td>\n",
       "    </tr>\n",
       "    <tr>\n",
       "      <th>29</th>\n",
       "      <td>IS5820001A</td>\n",
       "      <td>Waldorf</td>\n",
       "      <td>PDPIND</td>\n",
       "      <td>P0100400000000</td>\n",
       "    </tr>\n",
       "    <tr>\n",
       "      <th>...</th>\n",
       "      <td>...</td>\n",
       "      <td>...</td>\n",
       "      <td>...</td>\n",
       "      <td>...</td>\n",
       "    </tr>\n",
       "    <tr>\n",
       "      <th>395682</th>\n",
       "      <td>NI7391###CSP02#</td>\n",
       "      <td>College Point</td>\n",
       "      <td>UHCOXFD01</td>\n",
       "      <td>F</td>\n",
       "    </tr>\n",
       "    <tr>\n",
       "      <th>395683</th>\n",
       "      <td>10001851LV043F1</td>\n",
       "      <td>Holladay</td>\n",
       "      <td>UHCSIER01</td>\n",
       "      <td>FHPNLV</td>\n",
       "    </tr>\n",
       "    <tr>\n",
       "      <th>395684</th>\n",
       "      <td>CB270F</td>\n",
       "      <td>COLFAX</td>\n",
       "      <td>CALPANTP</td>\n",
       "      <td>5707PR</td>\n",
       "    </tr>\n",
       "    <tr>\n",
       "      <th>395685</th>\n",
       "      <td>IR3444047CGR</td>\n",
       "      <td>KANSAS CITY</td>\n",
       "      <td>MPDOVA</td>\n",
       "      <td>M4H009VRG99928</td>\n",
       "    </tr>\n",
       "    <tr>\n",
       "      <th>395686</th>\n",
       "      <td>WH2001038E23</td>\n",
       "      <td>CHARLOTTE</td>\n",
       "      <td>MPDOVA</td>\n",
       "      <td>M11827OEB12309</td>\n",
       "    </tr>\n",
       "    <tr>\n",
       "      <th>395687</th>\n",
       "      <td>MEDICARE</td>\n",
       "      <td>Huntsville</td>\n",
       "      <td>PSI1450</td>\n",
       "      <td>POEHW</td>\n",
       "    </tr>\n",
       "    <tr>\n",
       "      <th>395688</th>\n",
       "      <td>IR7444021CGR</td>\n",
       "      <td>DANIELSVILLE</td>\n",
       "      <td>MPDOVA</td>\n",
       "      <td>M43010VRG99977</td>\n",
       "    </tr>\n",
       "    <tr>\n",
       "      <th>395689</th>\n",
       "      <td></td>\n",
       "      <td>SARVER</td>\n",
       "      <td>PDP1005</td>\n",
       "      <td>ENHANCED</td>\n",
       "    </tr>\n",
       "    <tr>\n",
       "      <th>395690</th>\n",
       "      <td>IR7444021CPM</td>\n",
       "      <td>LITTLE RIVER</td>\n",
       "      <td>MPDOVA</td>\n",
       "      <td>M43008VRG99980</td>\n",
       "    </tr>\n",
       "    <tr>\n",
       "      <th>395691</th>\n",
       "      <td>IH0151023A1</td>\n",
       "      <td>Montgomery</td>\n",
       "      <td>MPDOVA</td>\n",
       "      <td>M04001BHM02171</td>\n",
       "    </tr>\n",
       "    <tr>\n",
       "      <th>395692</th>\n",
       "      <td>IR7444021CPM</td>\n",
       "      <td>Monticello</td>\n",
       "      <td>MPDOVA</td>\n",
       "      <td>M43008VRG99979</td>\n",
       "    </tr>\n",
       "    <tr>\n",
       "      <th>395693</th>\n",
       "      <td>IS5921003K</td>\n",
       "      <td>WASILLA</td>\n",
       "      <td>PDPIND</td>\n",
       "      <td>P0337700000000</td>\n",
       "    </tr>\n",
       "    <tr>\n",
       "      <th>395694</th>\n",
       "      <td>IS5820001A</td>\n",
       "      <td>OCEAN CITY</td>\n",
       "      <td>PDPIND</td>\n",
       "      <td>P0100400000000</td>\n",
       "    </tr>\n",
       "    <tr>\n",
       "      <th>395695</th>\n",
       "      <td>IS5805002A</td>\n",
       "      <td>NEW YORK</td>\n",
       "      <td>PDPIND</td>\n",
       "      <td>P0200100000000</td>\n",
       "    </tr>\n",
       "    <tr>\n",
       "      <th>395696</th>\n",
       "      <td>IH0609013AC</td>\n",
       "      <td>LAS VEGAS</td>\n",
       "      <td>MPDOVA</td>\n",
       "      <td>M0D028HCFAG2</td>\n",
       "    </tr>\n",
       "    <tr>\n",
       "      <th>395697</th>\n",
       "      <td>IS5820001A</td>\n",
       "      <td>Whiting</td>\n",
       "      <td>PDPIND</td>\n",
       "      <td>P0100300000000</td>\n",
       "    </tr>\n",
       "    <tr>\n",
       "      <th>395698</th>\n",
       "      <td>IS5820001A</td>\n",
       "      <td>Henderson</td>\n",
       "      <td>PDPIND</td>\n",
       "      <td>P0102804211001</td>\n",
       "    </tr>\n",
       "    <tr>\n",
       "      <th>395699</th>\n",
       "      <td>IR7444021AC2</td>\n",
       "      <td>SHIRLEY</td>\n",
       "      <td>MPDOVA</td>\n",
       "      <td>M43003RAM82075</td>\n",
       "    </tr>\n",
       "    <tr>\n",
       "      <th>395700</th>\n",
       "      <td>50500664K18HL02</td>\n",
       "      <td>North Las Vegas</td>\n",
       "      <td>UHCSIER01</td>\n",
       "      <td>FHPNLV</td>\n",
       "    </tr>\n",
       "    <tr>\n",
       "      <th>395701</th>\n",
       "      <td>MEDICARE</td>\n",
       "      <td>Huntsville</td>\n",
       "      <td>PSI1450</td>\n",
       "      <td>POEHW</td>\n",
       "    </tr>\n",
       "    <tr>\n",
       "      <th>395702</th>\n",
       "      <td>IH4590017AS1</td>\n",
       "      <td>RICHARDSON</td>\n",
       "      <td>MPDOVA</td>\n",
       "      <td>M2B012HCFAU5</td>\n",
       "    </tr>\n",
       "    <tr>\n",
       "      <th>395703</th>\n",
       "      <td>IM8811###CSP18#</td>\n",
       "      <td>Harrison</td>\n",
       "      <td>UHCOXFD01</td>\n",
       "      <td>F</td>\n",
       "    </tr>\n",
       "    <tr>\n",
       "      <th>395704</th>\n",
       "      <td>IS5820001A</td>\n",
       "      <td>MANCHESTER</td>\n",
       "      <td>PDPIND</td>\n",
       "      <td>P0100100000000</td>\n",
       "    </tr>\n",
       "    <tr>\n",
       "      <th>395705</th>\n",
       "      <td>IS5820001A</td>\n",
       "      <td>Winter Park</td>\n",
       "      <td>PDPIND</td>\n",
       "      <td>P0101000000000</td>\n",
       "    </tr>\n",
       "    <tr>\n",
       "      <th>395706</th>\n",
       "      <td>IH0609013AS2</td>\n",
       "      <td>ERIE</td>\n",
       "      <td>MPDOVA</td>\n",
       "      <td>M0D012HCFAJ6</td>\n",
       "    </tr>\n",
       "    <tr>\n",
       "      <th>395707</th>\n",
       "      <td>075536803610361</td>\n",
       "      <td>Centreville</td>\n",
       "      <td>UHCACIS01</td>\n",
       "      <td>A</td>\n",
       "    </tr>\n",
       "    <tr>\n",
       "      <th>395708</th>\n",
       "      <td>019208606350635</td>\n",
       "      <td>PARKER</td>\n",
       "      <td>UHCACIS01</td>\n",
       "      <td>A</td>\n",
       "    </tr>\n",
       "    <tr>\n",
       "      <th>395709</th>\n",
       "      <td>10220818</td>\n",
       "      <td>COLUMBIA</td>\n",
       "      <td>IBCFOCCOM</td>\n",
       "      <td>171641</td>\n",
       "    </tr>\n",
       "    <tr>\n",
       "      <th>395710</th>\n",
       "      <td>070290803050305</td>\n",
       "      <td>SOUTH SETAUKET</td>\n",
       "      <td>UHCACIS01</td>\n",
       "      <td>A</td>\n",
       "    </tr>\n",
       "    <tr>\n",
       "      <th>395711</th>\n",
       "      <td>GH1509021E23</td>\n",
       "      <td>Lee</td>\n",
       "      <td>MPDOVA</td>\n",
       "      <td>M0O801OEB12809</td>\n",
       "    </tr>\n",
       "  </tbody>\n",
       "</table>\n",
       "<p>395712 rows × 4 columns</p>\n",
       "</div>"
      ],
      "text/plain": [
       "              CAG_GROUP             CITY    CARRIER         ACCOUNT\n",
       "0       071240300420042          ADELPHI  UHCACIS01               F\n",
       "1            IS5820001A          Mosheim     PDPIND  P0101100000000\n",
       "2                 00008            Bronx    PSI1700               A\n",
       "3          IR7444021AC2        Plainview     MPDOVA  M43003RAM82075\n",
       "4            IS5921003K      Carson City     PDPIND  P0337300000000\n",
       "5          IH4590017UMH      San Antonio     MPDOVA    M2B037HCFAC8\n",
       "6       071187800290029      OLMSTED TWP  UHCACIS01               A\n",
       "7       090671200180018       Lauderhill  UHCACNHP1               F\n",
       "8           IH0151023A1      Bay Minette     MPDOVA  M04001BHM02250\n",
       "9                 F20AL      Brownsville    PSI2016             GE7\n",
       "10           GS5805002E            MINOA     PDPIND  P0280324907002\n",
       "11           IS5921003K      Carson City     PDPIND  P0337300000000\n",
       "12      020022800600060        San Ramon  UHCACIS01               A\n",
       "13          IH3379027A2         Glendale     MPDOVA  M1K001NYC13000\n",
       "14           IS5820001A          CHICAGO     PDPIND  P0101600000000\n",
       "15         10000905A001  NORTH LAS VEGAS      MPDNV        H2931002\n",
       "16         IH4590017AS2       FORT WORTH     MPDOVA    M2B041HCFA99\n",
       "17           IS5820001A         Hopewell     PDPIND  P0100600000000\n",
       "18      090394001050105        LEWISBURG  UHCACIS01               A\n",
       "19           IS5820001A     SCHERERVILLE     PDPIND  P0101400000000\n",
       "20      070140300500050          ARCADIA  UHCACIS01               A\n",
       "21           IS5820001A       Cincinnati     PDPIND  P0101300000000\n",
       "22           IS5820001A          Sunbury     PDPIND  P0100500000000\n",
       "23                                 Ewing    SONJCOM                \n",
       "24           IS5820001A      SOUTHINGTON     PDPIND  P0100200000000\n",
       "25          IH4604037A2     Taylorsville     MPDOVA  M2C011SLC42022\n",
       "26           IS5820001A          GRESHAM     PDPIND  P0102900000000\n",
       "27           IS5820001A        Irvington     PDPIND  P0100300000000\n",
       "28          IH3379027A2         New York     MPDOVA  M1K001NYC13000\n",
       "29           IS5820001A          Waldorf     PDPIND  P0100400000000\n",
       "...                 ...              ...        ...             ...\n",
       "395682  NI7391###CSP02#    College Point  UHCOXFD01               F\n",
       "395683  10001851LV043F1         Holladay  UHCSIER01          FHPNLV\n",
       "395684           CB270F           COLFAX   CALPANTP          5707PR\n",
       "395685     IR3444047CGR      KANSAS CITY     MPDOVA  M4H009VRG99928\n",
       "395686     WH2001038E23        CHARLOTTE     MPDOVA  M11827OEB12309\n",
       "395687         MEDICARE       Huntsville    PSI1450           POEHW\n",
       "395688     IR7444021CGR     DANIELSVILLE     MPDOVA  M43010VRG99977\n",
       "395689                            SARVER    PDP1005        ENHANCED\n",
       "395690     IR7444021CPM     LITTLE RIVER     MPDOVA  M43008VRG99980\n",
       "395691      IH0151023A1       Montgomery     MPDOVA  M04001BHM02171\n",
       "395692     IR7444021CPM       Monticello     MPDOVA  M43008VRG99979\n",
       "395693       IS5921003K          WASILLA     PDPIND  P0337700000000\n",
       "395694       IS5820001A       OCEAN CITY     PDPIND  P0100400000000\n",
       "395695       IS5805002A         NEW YORK     PDPIND  P0200100000000\n",
       "395696      IH0609013AC        LAS VEGAS     MPDOVA    M0D028HCFAG2\n",
       "395697       IS5820001A          Whiting     PDPIND  P0100300000000\n",
       "395698       IS5820001A        Henderson     PDPIND  P0102804211001\n",
       "395699     IR7444021AC2          SHIRLEY     MPDOVA  M43003RAM82075\n",
       "395700  50500664K18HL02  North Las Vegas  UHCSIER01          FHPNLV\n",
       "395701         MEDICARE       Huntsville    PSI1450           POEHW\n",
       "395702     IH4590017AS1       RICHARDSON     MPDOVA    M2B012HCFAU5\n",
       "395703  IM8811###CSP18#         Harrison  UHCOXFD01               F\n",
       "395704       IS5820001A       MANCHESTER     PDPIND  P0100100000000\n",
       "395705       IS5820001A      Winter Park     PDPIND  P0101000000000\n",
       "395706     IH0609013AS2             ERIE     MPDOVA    M0D012HCFAJ6\n",
       "395707  075536803610361      Centreville  UHCACIS01               A\n",
       "395708  019208606350635           PARKER  UHCACIS01               A\n",
       "395709         10220818         COLUMBIA  IBCFOCCOM          171641\n",
       "395710  070290803050305   SOUTH SETAUKET  UHCACIS01               A\n",
       "395711     GH1509021E23              Lee     MPDOVA  M0O801OEB12809\n",
       "\n",
       "[395712 rows x 4 columns]"
      ]
     },
     "execution_count": 87,
     "metadata": {},
     "output_type": "execute_result"
    }
   ],
   "source": [
    "final_file[['CAG_GROUP','CITY','CARRIER','ACCOUNT']]\n",
    "#from sklearn.feature_extraction.text import CountVectorizer"
   ]
  },
  {
   "cell_type": "code",
   "execution_count": 16,
   "metadata": {
    "collapsed": true
   },
   "outputs": [
    {
     "data": {
      "text/plain": [
       "Y          240187\n",
       "IGNORE      79453\n",
       "N           76068\n",
       "UNKNOWN         4\n",
       "Name: SUCCESS_FLAG, dtype: int64"
      ]
     },
     "execution_count": 16,
     "metadata": {},
     "output_type": "execute_result"
    }
   ],
   "source": [
    "final_file['SUCCESS_FLAG'].value_counts()"
   ]
  },
  {
   "cell_type": "code",
   "execution_count": 88,
   "metadata": {},
   "outputs": [],
   "source": [
    "#convert to numbers\n",
    "cities=pd.unique(final_file['CITY'])\n",
    "city_codes=[i for i in range(1,len(cities)+1)]\n",
    "city_map=pd.DataFrame(dict(cities = cities, city_codes = city_codes))\n",
    "city_map#[city_map['cities']=='Plainview']\n",
    "final_file['RX_TYPE']=final_file['RX_TYPE'].replace('E',1)\n",
    "final_file['RX_TYPE']=final_file['RX_TYPE'].replace('P',2)\n",
    "final_file['MEMBER_LEVEL_HFF_FLAG']=final_file['MEMBER_LEVEL_HFF_FLAG'].map({'N':1,'Y':2})\n"
   ]
  },
  {
   "cell_type": "code",
   "execution_count": 89,
   "metadata": {},
   "outputs": [],
   "source": [
    "final_file['LANGUAGE_NAME'] =final_file['LANGUAGE_NAME'].map({'ENG':1,'ESP':2})"
   ]
  },
  {
   "cell_type": "code",
   "execution_count": 90,
   "metadata": {},
   "outputs": [],
   "source": [
    "final_file['SUCCESS_FLAG']=final_file['SUCCESS_FLAG'].map({'N':1,'Y':0,'IGNORE':0})"
   ]
  },
  {
   "cell_type": "code",
   "execution_count": 91,
   "metadata": {},
   "outputs": [],
   "source": [
    "final_file_for_training=final_file.drop(['ORGANIZATION_ID','RX_NUMBER','PATIENT_ACCOUNT_ID','DATE_DISCONTINUED','DATE_EXPIRED'],axis=1)"
   ]
  },
  {
   "cell_type": "code",
   "execution_count": 122,
   "metadata": {},
   "outputs": [
    {
     "data": {
      "text/plain": [
       "Y         107024\n",
       "IGNORE     34930\n",
       "N          33196\n",
       "Name: SUCCESS_FLAG, dtype: int64"
      ]
     },
     "execution_count": 122,
     "metadata": {},
     "output_type": "execute_result"
    }
   ],
   "source": [
    "#SUCCESS SCENARIOS ACROSS AGE\n",
    "#Rx_data=Rx_data.fillna('')\n",
    "#plt.plot(Rx_data['SUCCESS_FLAG'],Rx_data['IS_REFRIGIRATED'],'.')\n",
    "#Rx_data[['SUCCESS_FLAG','AGE']][1:100].plot.bar()\n",
    "#Rx_data[Rx_data['SUCCESS_FLAG']=='Y']['TOTAL_REFILLS'].value_counts()\n",
    "#Rx_data[Rx_data['IS_MALE']==1]['SUCCESS_FLAG'].value_counts()\n",
    "#IS_REFRIGIRATED is doesnt have direct impact (50-50)\n",
    "#IS_DIABETIC --65% are non adherence if diabetic\n",
    "#IS_RESPIRATORY --75% are non adherent if respiratory\n",
    "#IS_CONTROLLED --10% re non adherent\n",
    "#IS_INJECTABLE --all non adherent\n",
    "#IS_CROSSOVER --80% are non adherent\n",
    "#IS_ANCILLARY --75% are dherent\n",
    "#IS_BRANDED -- 25% are non adherent\n",
    "#if not branded--20% are non adherent\n",
    "#Rx_data['INVENTORY_ITEM_ID'].count()\n",
    "#if HFF ---adherent more more than 90%"
   ]
  },
  {
   "cell_type": "code",
   "execution_count": 215,
   "metadata": {},
   "outputs": [
    {
     "data": {
      "text/plain": [
       "17"
      ]
     },
     "execution_count": 215,
     "metadata": {},
     "output_type": "execute_result"
    }
   ],
   "source": [
    "#nav=lambda x:x**2+1\n",
    "#nav(4)"
   ]
  },
  {
   "cell_type": "code",
   "execution_count": 120,
   "metadata": {},
   "outputs": [],
   "source": [
    "target=final_file_for_training['SUCCESS_FLAG']\n",
    "input_data=final_file_for_training.drop(['SUCCESS_FLAG'],axis=1)"
   ]
  },
  {
   "cell_type": "code",
   "execution_count": 217,
   "metadata": {},
   "outputs": [
    {
     "data": {
      "text/plain": [
       "0         D3\n",
       "1         D3\n",
       "2         D3\n",
       "3         D3\n",
       "4         D3\n",
       "5         D3\n",
       "6         D3\n",
       "7         D3\n",
       "8         D3\n",
       "9         D3\n",
       "10        D3\n",
       "11        D3\n",
       "12        D3\n",
       "13        D3\n",
       "14        D3\n",
       "15        D3\n",
       "16        D3\n",
       "17        D3\n",
       "18        D3\n",
       "19        D3\n",
       "20        D3\n",
       "21        D3\n",
       "22        D3\n",
       "23        D3\n",
       "24        D3\n",
       "25        D3\n",
       "26        D3\n",
       "27        D3\n",
       "28        D3\n",
       "29        D3\n",
       "          ..\n",
       "395682    75\n",
       "395683    75\n",
       "395684    75\n",
       "395685    75\n",
       "395686    75\n",
       "395687    75\n",
       "395688    75\n",
       "395689    75\n",
       "395690    75\n",
       "395691    75\n",
       "395692    75\n",
       "395693    75\n",
       "395694    75\n",
       "395695    75\n",
       "395696    75\n",
       "395697    75\n",
       "395698    75\n",
       "395699    75\n",
       "395700    75\n",
       "395701    75\n",
       "395702    75\n",
       "395703    75\n",
       "395704    75\n",
       "395705    75\n",
       "395706    03\n",
       "395707    03\n",
       "395708    03\n",
       "395709    03\n",
       "395710    75\n",
       "395711    40\n",
       "Name: GPI, Length: 395712, dtype: object"
      ]
     },
     "execution_count": 217,
     "metadata": {},
     "output_type": "execute_result"
    }
   ],
   "source": [
    "#Divide GPI into subtypes\n",
    "drug_group=final_file_for_training['GPI'].str[0:2]\n",
    "drug_class=final_file_for_training['GPI'].str[2:4]\n",
    "drug_sub_class=final_file_for_training['GPI'].str[4:6]\n",
    "drug_name_code=final_file_for_training['GPI'].str[6:8]\n",
    "drug_name_ext_code=final_file_for_training['GPI'].str[8:10]\n",
    "drug_dosage=final_file_for_training['GPI'].str[10:12]\n",
    "drug_strength=final_file_for_training['GPI'].str[12:14]"
   ]
  },
  {
   "cell_type": "code",
   "execution_count": 108,
   "metadata": {},
   "outputs": [
    {
     "data": {
      "text/plain": [
       "1    316674\n",
       "2     79038\n",
       "Name: RX_TYPE, dtype: int64"
      ]
     },
     "execution_count": 108,
     "metadata": {},
     "output_type": "execute_result"
    }
   ],
   "source": [
    "input_data['RX_TYPE'].value_counts()"
   ]
  },
  {
   "cell_type": "code",
   "execution_count": 121,
   "metadata": {},
   "outputs": [
    {
     "data": {
      "text/plain": [
       "array([1.60516706e+10])"
      ]
     },
     "execution_count": 121,
     "metadata": {},
     "output_type": "execute_result"
    }
   ],
   "source": [
    "np.cov(input_data['COPAY'],input_data['PRIMARY_PLAN_PAYMENT'])/(np.std(input_data['COPAY'])*np.std(input_data['PRIMARY_PLAN_PAYMENT']))\n",
    "#input_data.columns\n",
    "#np.std(input_data['COPAY'])\n",
    "np.correlate(input_data['COPAY'],input_data['PRIMARY_PLAN_PAYMENT'])#/(np.std(input_data['COPAY'])*np.std(input_data['PRIMARY_PLAN_PAYMENT']))"
   ]
  },
  {
   "cell_type": "code",
   "execution_count": 122,
   "metadata": {},
   "outputs": [],
   "source": [
    "input_data=input_data.drop(['DATE_WRITTEN_MONTH','LAST_REFILL_MONTH','CAG_GROUP','STATE','POSTAL_CODE','COUNTY',\n",
    "                             'CITY','DATE_FOR_NEXT_FILL','DATE_WRITTEN','CARRIER','ACCOUNT','DATE_LAST_FILLED'],axis=1)\n",
    "\n"
   ]
  },
  {
   "cell_type": "code",
   "execution_count": 128,
   "metadata": {},
   "outputs": [],
   "source": [
    "input_data['IS_MALE']=input_data['IS_MALE'].fillna('')\n",
    "input_data['IS_MALE']=input_data['IS_MALE'].replace('',1)\n",
    "input_data['IS_MALE'].value_counts()\n",
    "input_data=input_data.drop(['GPI'],axis=1)"
   ]
  },
  {
   "cell_type": "code",
   "execution_count": 195,
   "metadata": {},
   "outputs": [
    {
     "data": {
      "text/plain": [
       "array([0.00000000e+00, 0.00000000e+00, 8.93047466e-04, 1.23948165e-03,\n",
       "       1.55246260e-03, 4.18827407e-03, 1.24526659e-02, 1.98820404e-02,\n",
       "       2.87196793e-02, 4.44525799e-02, 1.47341632e-01, 1.62939572e-01,\n",
       "       1.89191691e-01, 2.22057105e-01, 2.47807781e-01, 7.92184624e-01,\n",
       "       1.54530665e+00, 2.71418395e+00, 4.50686980e+01, 8.63538770e+01,\n",
       "       1.96454209e+02, 5.57681303e+03, 8.63517100e+03, 5.09530874e+05])"
      ]
     },
     "execution_count": 195,
     "metadata": {},
     "output_type": "execute_result"
    }
   ],
   "source": [
    "input_data.columns\n",
    "#input_sample=input_data[['AGE','IS_MALE']]\n",
    "input_data.cov()\n",
    "eigen_values=np.linalg.eig(input_data.cov())[0]\n",
    "eigen_vector=np.linalg.eig(input_data.cov())[1]\n",
    "\n",
    "eigen_values.sort()\n",
    "eigen_values"
   ]
  },
  {
   "cell_type": "code",
   "execution_count": 196,
   "metadata": {},
   "outputs": [],
   "source": [
    "#Standarding and usinf pca to reduce diemsnions just for practive\n",
    "from sklearn.preprocessing import StandardScaler\n",
    "X = StandardScaler().fit_transform(input_data)\n",
    "from sklearn.decomposition import PCA\n",
    "pca = PCA(n_components=8)\n",
    "principalComponents = pca.fit_transform(x)"
   ]
  },
  {
   "cell_type": "code",
   "execution_count": 200,
   "metadata": {},
   "outputs": [
    {
     "data": {
      "text/plain": [
       "(395712, 8)"
      ]
     },
     "execution_count": 200,
     "metadata": {},
     "output_type": "execute_result"
    }
   ],
   "source": [
    "principalComponents.shape"
   ]
  },
  {
   "cell_type": "code",
   "execution_count": 147,
   "metadata": {
    "scrolled": true
   },
   "outputs": [],
   "source": [
    "#final=np.dot(input_data,eigen_vector)\n",
    "final[0:10]\n",
    "input_data=input_data.fillna(0)\n",
    "#input_data=input_data.drop(['NDC'],axis=1)"
   ]
  },
  {
   "cell_type": "code",
   "execution_count": 146,
   "metadata": {
    "collapsed": true
   },
   "outputs": [
    {
     "ename": "AttributeError",
     "evalue": "'DataFrame' object has no attribute 'filna'",
     "output_type": "error",
     "traceback": [
      "\u001b[1;31m---------------------------------------------------------------------------\u001b[0m",
      "\u001b[1;31mAttributeError\u001b[0m                            Traceback (most recent call last)",
      "\u001b[1;32m<ipython-input-146-5d70736a9aba>\u001b[0m in \u001b[0;36m<module>\u001b[1;34m()\u001b[0m\n\u001b[0;32m      2\u001b[0m \u001b[0mplt\u001b[0m\u001b[1;33m.\u001b[0m\u001b[0mxlabel\u001b[0m\u001b[1;33m(\u001b[0m\u001b[1;34m\"AGE\"\u001b[0m\u001b[1;33m)\u001b[0m\u001b[1;33m\u001b[0m\u001b[0m\n\u001b[0;32m      3\u001b[0m \u001b[0mplt\u001b[0m\u001b[1;33m.\u001b[0m\u001b[0mylabel\u001b[0m\u001b[1;33m(\u001b[0m\u001b[1;34m\"CASH\"\u001b[0m\u001b[1;33m)\u001b[0m\u001b[1;33m\u001b[0m\u001b[0m\n\u001b[1;32m----> 4\u001b[1;33m \u001b[0minput_data\u001b[0m\u001b[1;33m=\u001b[0m\u001b[0minput_data\u001b[0m\u001b[1;33m.\u001b[0m\u001b[0mfilna\u001b[0m\u001b[1;33m(\u001b[0m\u001b[1;34m'0'\u001b[0m\u001b[1;33m)\u001b[0m\u001b[1;33m\u001b[0m\u001b[0m\n\u001b[0m",
      "\u001b[1;32mC:\\ProgramData\\Anaconda3\\lib\\site-packages\\pandas\\core\\generic.py\u001b[0m in \u001b[0;36m__getattr__\u001b[1;34m(self, name)\u001b[0m\n\u001b[0;32m   3612\u001b[0m             \u001b[1;32mif\u001b[0m \u001b[0mname\u001b[0m \u001b[1;32min\u001b[0m \u001b[0mself\u001b[0m\u001b[1;33m.\u001b[0m\u001b[0m_info_axis\u001b[0m\u001b[1;33m:\u001b[0m\u001b[1;33m\u001b[0m\u001b[0m\n\u001b[0;32m   3613\u001b[0m                 \u001b[1;32mreturn\u001b[0m \u001b[0mself\u001b[0m\u001b[1;33m[\u001b[0m\u001b[0mname\u001b[0m\u001b[1;33m]\u001b[0m\u001b[1;33m\u001b[0m\u001b[0m\n\u001b[1;32m-> 3614\u001b[1;33m             \u001b[1;32mreturn\u001b[0m \u001b[0mobject\u001b[0m\u001b[1;33m.\u001b[0m\u001b[0m__getattribute__\u001b[0m\u001b[1;33m(\u001b[0m\u001b[0mself\u001b[0m\u001b[1;33m,\u001b[0m \u001b[0mname\u001b[0m\u001b[1;33m)\u001b[0m\u001b[1;33m\u001b[0m\u001b[0m\n\u001b[0m\u001b[0;32m   3615\u001b[0m \u001b[1;33m\u001b[0m\u001b[0m\n\u001b[0;32m   3616\u001b[0m     \u001b[1;32mdef\u001b[0m \u001b[0m__setattr__\u001b[0m\u001b[1;33m(\u001b[0m\u001b[0mself\u001b[0m\u001b[1;33m,\u001b[0m \u001b[0mname\u001b[0m\u001b[1;33m,\u001b[0m \u001b[0mvalue\u001b[0m\u001b[1;33m)\u001b[0m\u001b[1;33m:\u001b[0m\u001b[1;33m\u001b[0m\u001b[0m\n",
      "\u001b[1;31mAttributeError\u001b[0m: 'DataFrame' object has no attribute 'filna'"
     ]
    },
    {
     "data": {
      "image/png": "[encoded data removed]",
      "text/plain": [
       "<Figure size 432x288 with 1 Axes>"
      ]
     },
     "metadata": {},
     "output_type": "display_data"
    }
   ],
   "source": [
    "plt.scatter(input_data['COPAY'],input_data['RX_TYPE'],c=\"R\", alpha=0.5)\n",
    "plt.xlabel(\"AGE\")\n",
    "plt.ylabel(\"CASH\")\n",
    "input_data=input_data.filna('0')\n",
    "target=target.fillna(1)"
   ]
  },
  {
   "cell_type": "code",
   "execution_count": 176,
   "metadata": {},
   "outputs": [
    {
     "name": "stdout",
     "output_type": "stream",
     "text": [
      "nulls present in output False\n",
      "nuls present in input? AGE                       False\n",
      "IS_MALE                   False\n",
      "IS_RX_HFF                 False\n",
      "TOTAL_REFILLS             False\n",
      "REMAINING_REFILLS         False\n",
      "DAW_CODE                  False\n",
      "DAYS_SUPPLY               False\n",
      "IS_REFRIGIRATED           False\n",
      "IS_DIABETIC               False\n",
      "IS_RESPIRATORY            False\n",
      "IS_CONTROLLED             False\n",
      "IS_INJECTABLE             False\n",
      "IS_OTC                    False\n",
      "IS_CROSSOVER              False\n",
      "IS_ANCILLARY              False\n",
      "IS_BRANDED                False\n",
      "SPAN_AFTER_DISC           False\n",
      "COPAY                     False\n",
      "CASH                      False\n",
      "PRIMARY_PLAN_PAYMENT      False\n",
      "SECONDARY_PLAN_PAYMENT    False\n",
      "RX_TYPE                   False\n",
      "MEMBER_LEVEL_HFF_FLAG     False\n",
      "LANGUAGE_NAME             False\n",
      "dtype: bool\n"
     ]
    }
   ],
   "source": [
    "print('nulls present in output',target.isnull().any())\n",
    "print('nuls present in input?',input_data.isnull().any())\n",
    "#target=target.fillna(1)\n",
    "#target"
   ]
  },
  {
   "cell_type": "code",
   "execution_count": 177,
   "metadata": {},
   "outputs": [
    {
     "data": {
      "text/plain": [
       "RandomForestClassifier(bootstrap=True, class_weight=None, criterion='gini',\n",
       "            max_depth=None, max_features='auto', max_leaf_nodes=None,\n",
       "            min_impurity_decrease=0.0, min_impurity_split=None,\n",
       "            min_samples_leaf=1, min_samples_split=2,\n",
       "            min_weight_fraction_leaf=0.0, n_estimators=10, n_jobs=1,\n",
       "            oob_score=False, random_state=None, verbose=0,\n",
       "            warm_start=False)"
      ]
     },
     "execution_count": 177,
     "metadata": {},
     "output_type": "execute_result"
    }
   ],
   "source": [
    "#create a model using input_data and target\n",
    "from sklearn.ensemble import RandomForestClassifier\n",
    "model=RandomForestClassifier()\n",
    "model.fit(input_data,target)"
   ]
  },
  {
   "cell_type": "code",
   "execution_count": 181,
   "metadata": {},
   "outputs": [
    {
     "data": {
      "text/plain": [
       "0.993277939511564"
      ]
     },
     "execution_count": 181,
     "metadata": {},
     "output_type": "execute_result"
    }
   ],
   "source": [
    "model.score(input_data,target)"
   ]
  },
  {
   "cell_type": "code",
   "execution_count": 130,
   "metadata": {},
   "outputs": [],
   "source": []
  },
  {
   "cell_type": "code",
   "execution_count": null,
   "metadata": {},
   "outputs": [],
   "source": []
  },
  {
   "cell_type": "code",
   "execution_count": 137,
   "metadata": {},
   "outputs": [],
   "source": [
    "#try to get ordered quantity for all the orders then load the orders again\n",
    "#try matching with icd codes to rx if possible and get the new data nad repeat everything\n",
    "#combine both data frames by taking average of (avg(copay)/(ordered qty))*100 --same for prim and sec payment\n",
    "#create just alergy indicator and try using that try dates also to know when was that active\n",
    "#finish this by 25th Night\n",
    "#create sythetic variables\n",
    "#start using models then"
   ]
  },
  {
   "cell_type": "code",
   "execution_count": null,
   "metadata": {},
   "outputs": [],
   "source": []
  }
 ],
 "metadata": {
  "kernelspec": {
   "display_name": "Python 3",
   "language": "python",
   "name": "python3"
  },
  "language_info": {
   "codemirror_mode": {
    "name": "ipython",
    "version": 3
   },
   "file_extension": ".py",
   "mimetype": "text/x-python",
   "name": "python",
   "nbconvert_exporter": "python",
   "pygments_lexer": "ipython3",
   "version": "3.6.4"
  }
 },
 "nbformat": 4,
 "nbformat_minor": 2
}
