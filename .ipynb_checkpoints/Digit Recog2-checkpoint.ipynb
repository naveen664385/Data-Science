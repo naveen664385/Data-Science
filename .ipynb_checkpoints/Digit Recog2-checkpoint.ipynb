{
 "cells": [
  {
   "cell_type": "code",
   "execution_count": 2,
   "metadata": {},
   "outputs": [
    {
     "data": {
      "text/plain": [
       "RandomForestClassifier(bootstrap=True, class_weight=None, criterion='gini',\n",
       "            max_depth=None, max_features='auto', max_leaf_nodes=None,\n",
       "            min_impurity_decrease=0.0, min_impurity_split=None,\n",
       "            min_samples_leaf=1, min_samples_split=2,\n",
       "            min_weight_fraction_leaf=0.0, n_estimators=10, n_jobs=1,\n",
       "            oob_score=False, random_state=None, verbose=0,\n",
       "            warm_start=False)"
      ]
     },
     "execution_count": 2,
     "metadata": {},
     "output_type": "execute_result"
    }
   ],
   "source": [
    "import numpy as np\n",
    "import pandas as pd\n",
    "import scipy as sp\n",
    "import sklearn as sk\n",
    "import skimage\n",
    "from skimage import io\n",
    "import matplotlib as mp\n",
    "import pylab as pl\n",
    "%matplotlib inline\n",
    "from sklearn.datasets import fetch_mldata\n",
    "mnist = fetch_mldata('MNIST original')\n",
    "digits = mnist.data\n",
    "target = mnist.target\n",
    "digits.shape\n",
    "target.shape\n",
    "#digits[100]\n",
    "#pl.imshow(digits[69989].reshape(28,28))\n",
    "from sklearn import ensemble\n",
    "classifier=ensemble.RandomForestClassifier()\n",
    "classifier.fit(digits,target)"
   ]
  },
  {
   "cell_type": "code",
   "execution_count": 93,
   "metadata": {},
   "outputs": [
    {
     "name": "stdout",
     "output_type": "stream",
     "text": [
      "Populating the interactive namespace from numpy and matplotlib\n",
      "(198, 254, 3)\n",
      "198 254\n"
     ]
    },
    {
     "name": "stderr",
     "output_type": "stream",
     "text": [
      "C:\\ProgramData\\Anaconda3\\lib\\site-packages\\IPython\\core\\magics\\pylab.py:160: UserWarning: pylab import has clobbered these variables: ['resize']\n",
      "`%matplotlib` prevents importing * from pylab and numpy\n",
      "  \"\\n`%matplotlib` prevents importing * from pylab and numpy\"\n"
     ]
    },
    {
     "data": {
      "text/plain": [
       "<matplotlib.colorbar.Colorbar at 0x115de390>"
      ]
     },
     "execution_count": 93,
     "metadata": {},
     "output_type": "execute_result"
    },
    {
     "data": {
      "image/png": "[encoded data removed]",
      "text/plain": [
       "<Figure size 432x288 with 2 Axes>"
      ]
     },
     "metadata": {},
     "output_type": "display_data"
    }
   ],
   "source": [
    "%pylab inline\n",
    "origimage=io.imread('C:/Users/bnaveen3/Desktop/images.jpg',as_gray='true')\n",
    "print(origimage.shape)\n",
    "from skimage.transform import rescale, resize, downscale_local_mean\n",
    "image=origimage[:,:,0].reshape(198,254)\n",
    "image.shape\n",
    "#image = rescale(origimage, 1.0 / 1)\n",
    "#print(image.shape)\n",
    "#image =image*250\n",
    "idx = image[:,:]<100\n",
    "idx_not =image[:,:]>200\n",
    "image[idx_not]=0\n",
    "image[idx]=250\n",
    "x,y=image.shape\n",
    "print(x,y)\n",
    "for i in range(x-1):\n",
    "    for j in range(y-1):\n",
    "        if image[i,j] >200:\n",
    "            pass\n",
    "            #darkening the already darkened area so that it will be easy to identify test block\n",
    "            image[i,j-1] = image[i,j]\n",
    "            image[i-1,j] = image[i,j]\n",
    "            image[i-1,j-1] = image[i,j]\n",
    "            image[i-2,j] = image[i,j]\n",
    "            image[i-2,j-1] = image[i,j]\n",
    "            image[i-2,j] = image[i,j]\n",
    "\n",
    "\n",
    "pl.imshow(image,cmap='gray')\n",
    "pl.colorbar()\n",
    "  \n"
   ]
  },
  {
   "cell_type": "code",
   "execution_count": 94,
   "metadata": {},
   "outputs": [
    {
     "name": "stdout",
     "output_type": "stream",
     "text": [
      "x 198 y 254\n",
      "rows 27 rowe 83\n",
      "rows 85 rowe 149\n"
     ]
    },
    {
     "data": {
      "text/plain": [
       "<matplotlib.image.AxesImage at 0x1164f6d8>"
      ]
     },
     "execution_count": 94,
     "metadata": {},
     "output_type": "execute_result"
    },
    {
     "data": {
      "image/png": "[encoded data removed]",
      "text/plain": [
       "<Figure size 432x288 with 1 Axes>"
      ]
     },
     "metadata": {},
     "output_type": "display_data"
    }
   ],
   "source": [
    "x,y=image.shape\n",
    "print('x',x,'y',y)\n",
    "closeflag='N'\n",
    "c=0\n",
    "m=0\n",
    "while(closeflag !='Y'):\n",
    "    for i in range(m,x-1):\n",
    "        #print('i',i,'x',x)\n",
    "        #print('sum',sum(image[i]))\n",
    "        #print('i',i)\n",
    "        if sum(image[i]) > 0.9*y:\n",
    "            rows = i\n",
    "            break\n",
    "            print('rows',rows)\n",
    "    for j in range(rows,x-1):\n",
    "        if j ==x-2:\n",
    "            closeflag='Y'\n",
    "        if sum(image[j]) < 0.9*y:\n",
    "            rowe = j\n",
    "            m=rowe\n",
    "            print('rows',rows,'rowe',rowe)\n",
    "            cropimage=image[rows:rowe,]\n",
    "            break\n",
    "pl.imshow(cropimage)"
   ]
  },
  {
   "cell_type": "code",
   "execution_count": 110,
   "metadata": {},
   "outputs": [
    {
     "name": "stdout",
     "output_type": "stream",
     "text": [
      "x 198 y 254\n",
      "rows 27 rowe 83\n",
      "a 56\n",
      "cols 9 cole 45\n",
      "a 56\n",
      "cols 62 cole 99\n",
      "a 56\n",
      "cols 117 cole 145\n",
      "a 56\n",
      "cols 159 cole 198\n",
      "a 56\n",
      "cols 208 cole 244\n",
      "a 56\n",
      "cols 208 cole 244\n",
      "rows 85 rowe 149\n",
      "a 64\n",
      "cols 13 cole 47\n",
      "a 64\n",
      "cols 64 cole 101\n",
      "a 64\n",
      "cols 112 cole 148\n",
      "a 64\n",
      "cols 161 cole 195\n",
      "a 64\n",
      "cols 202 cole 243\n",
      "a 64\n",
      "cols 202 cole 243\n",
      " \n",
      " 1 7 3 4 7 \n",
      " 3 9 4 4 1\n"
     ]
    },
    {
     "name": "stderr",
     "output_type": "stream",
     "text": [
      "C:\\ProgramData\\Anaconda3\\lib\\site-packages\\skimage\\transform\\_warps.py:84: UserWarning: The default mode, 'constant', will be changed to 'reflect' in skimage 0.15.\n",
      "  warn(\"The default mode, 'constant', will be changed to 'reflect' in \"\n"
     ]
    },
    {
     "data": {
      "text/plain": [
       "<matplotlib.image.AxesImage at 0x12b01438>"
      ]
     },
     "execution_count": 110,
     "metadata": {},
     "output_type": "execute_result"
    },
    {
     "data": {
      "image/png": "[encoded data removed]",
      "text/plain": [
       "<Figure size 432x288 with 1 Axes>"
      ]
     },
     "metadata": {},
     "output_type": "display_data"
    }
   ],
   "source": [
    "x,y=image.shape\n",
    "print('x',x,'y',y)\n",
    "closeflag='N'\n",
    "c=0\n",
    "m=0\n",
    "exitflag='N'\n",
    "final=''\n",
    "while(closeflag !='Y'):\n",
    "    for i in range(m,x-1):\n",
    "        #print('i',i,'x',x)\n",
    "        #print('sum',sum(image[i]))\n",
    "        #print('i',i)\n",
    "        if sum(image[i]) > 0.9*y:\n",
    "            rows = i\n",
    "            break\n",
    "            print('rows',rows)\n",
    "    for j in range(rows,x-1):\n",
    "        if j ==x-2:\n",
    "            closeflag='Y'\n",
    "        if sum(image[j]) < 0.9*y:\n",
    "            rowe = j\n",
    "            m=rowe\n",
    "            print('rows',rows,'rowe',rowe)\n",
    "            cropimage=image[rows:rowe,]\n",
    "            final = final + ' \\n'\n",
    "            a,b =cropimage.shape\n",
    "            clength =rowe-rows\n",
    "            l=0\n",
    "            exitflag = 'N'\n",
    "            while(exitflag != 'Y'):\n",
    "                #print('a',a)\n",
    "                for i in range(l,b-1):\n",
    "                    if i == b-2:\n",
    "                        exitflag='Y'\n",
    "                    if sum(cropimage[:,i]) > clength*.85:\n",
    "                        cols = i\n",
    "                        #print('cstart',cstart)\n",
    "                        break\n",
    "                for i in range(cols+1,b-1):\n",
    "                    if i == b-2:\n",
    "                        exitflag='Y'\n",
    "                    if sum(cropimage[:,i]) < clength*.85:\n",
    "                        cole = i\n",
    "                        l=cole\n",
    "                        #print('cend',cend)\n",
    "                        l=cole+1\n",
    "                        #print('cols',cols,'cole',cole)\n",
    "                        curimage=cropimage[1:clength,cols-1:cole+2]\n",
    "                        curimage = skimage.transform.resize(curimage, (28,28), preserve_range=True)\n",
    "                        curimage = curimage.reshape(784,1)\n",
    "                        if exitflag!='Y':\n",
    "                            final = final+' '+str(int(classifier.predict(curimage.reshape(1,784))[0]))\n",
    "                        break\n",
    "            break\n",
    "print(final)\n",
    "pl.imshow(image)"
   ]
  }
 ],
 "metadata": {
  "kernelspec": {
   "display_name": "Python 3",
   "language": "python",
   "name": "python3"
  },
  "language_info": {
   "codemirror_mode": {
    "name": "ipython",
    "version": 3
   },
   "file_extension": ".py",
   "mimetype": "text/x-python",
   "name": "python",
   "nbconvert_exporter": "python",
   "pygments_lexer": "ipython3",
   "version": "3.6.4"
  }
 },
 "nbformat": 4,
 "nbformat_minor": 2
}
