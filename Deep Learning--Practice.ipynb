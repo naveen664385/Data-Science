{
 "cells": [
  {
   "cell_type": "code",
   "execution_count": 2,
   "metadata": {},
   "outputs": [
    {
     "name": "stderr",
     "output_type": "stream",
     "text": [
      "Using TensorFlow backend.\n"
     ]
    }
   ],
   "source": [
    "import numpy as np\n",
    "import pandas as pd\n",
    "import sklearn as sk\n",
    "import matplotlib as mpt\n",
    "%matplotlib inline\n",
    "import matplotlib.pyplot as plt\n",
    "import seaborn as sn\n",
    "import keras"
   ]
  },
  {
   "cell_type": "code",
   "execution_count": 3,
   "metadata": {},
   "outputs": [],
   "source": [
    "amex_data = pd.read_csv('C:/Users/bnaveen3/Desktop/AV/train.csv',skip_blank_lines=True,\n",
    "                      error_bad_lines=False)\n"
   ]
  },
  {
   "cell_type": "code",
   "execution_count": 4,
   "metadata": {},
   "outputs": [],
   "source": [
    "AMEX_TRAIN_DATA=amex_data\n",
    "#looking at the above data...for now dropping product_category_2 and city_developement_index\n",
    "#as we dont know if there is no actual value or data fetching issue\n",
    "AMEX_TRAIN_DATA=AMEX_TRAIN_DATA.drop(['product_category_2','city_development_index','session_id'],axis=1)\n",
    "import datetime\n",
    "a=pd.to_datetime(AMEX_TRAIN_DATA['DateTime'])\n",
    "AMEX_TRAIN_DATA['day']=a.dt.day\n",
    "AMEX_TRAIN_DATA['month']=a.dt.month\n",
    "AMEX_TRAIN_DATA.drop(['DateTime'],axis=1,inplace=True)\n",
    "AMEX_TRAIN_DATA.head()\n",
    "product_dummies=pd.get_dummies(AMEX_TRAIN_DATA['product'],prefix='is_product')\n",
    "campaign_id_dummies=pd.get_dummies(AMEX_TRAIN_DATA['campaign_id'],prefix='is_cmapaign_id')\n",
    "webpage_id_dummies=pd.get_dummies(AMEX_TRAIN_DATA['webpage_id'],prefix='is_webpage_id')\n",
    "product_category_1_dummies=pd.get_dummies(AMEX_TRAIN_DATA['product_category_1'],prefix='is_product_category_1')\n",
    "user_group_id_dummies=pd.get_dummies(AMEX_TRAIN_DATA['user_group_id'],prefix='is_user_group_id')\n",
    "gender_dummies=pd.get_dummies(AMEX_TRAIN_DATA['gender'],prefix='is_gender')\n",
    "user_depth_dummies=pd.get_dummies(AMEX_TRAIN_DATA['user_depth'],prefix='is_user_depth')\n",
    "age_level_dummies=pd.get_dummies(AMEX_TRAIN_DATA['age_level'],prefix='age_level')\n",
    "month_dummies=pd.get_dummies(AMEX_TRAIN_DATA['month'],prefix='month')\n",
    "day_dummies=pd.get_dummies(AMEX_TRAIN_DATA['day'],prefix='day')\n",
    "AMEX_TRAIN_DATA[product_dummies.columns]=product_dummies\n",
    "AMEX_TRAIN_DATA[campaign_id_dummies.columns]=campaign_id_dummies\n",
    "AMEX_TRAIN_DATA[webpage_id_dummies.columns]=webpage_id_dummies\n",
    "AMEX_TRAIN_DATA[product_category_1_dummies.columns]=product_category_1_dummies\n",
    "AMEX_TRAIN_DATA[user_group_id_dummies.columns]=user_group_id_dummies\n",
    "AMEX_TRAIN_DATA[gender_dummies.columns]=gender_dummies\n",
    "AMEX_TRAIN_DATA[user_depth_dummies.columns]=user_depth_dummies\n",
    "AMEX_TRAIN_DATA[age_level_dummies.columns]=age_level_dummies\n",
    "AMEX_TRAIN_DATA[month_dummies.columns]=month_dummies\n",
    "AMEX_TRAIN_DATA[day_dummies.columns]=day_dummies\n",
    "from sklearn.model_selection import train_test_split\n",
    "AMEX_TRAIN_DATA, AMEX_TEST_DATA = train_test_split(AMEX_TRAIN_DATA, test_size=0.1)\n",
    "AMEX_TRAIN_TARGET=AMEX_TRAIN_DATA['is_click']\n",
    "AMEX_TRAIN_FEAT =AMEX_TRAIN_DATA.drop(['is_click'],axis=1)\n",
    "AMEX_TEST_TARGET=AMEX_TEST_DATA['is_click']\n",
    "AMEX_TEST_FEAT =AMEX_TEST_DATA.drop(['is_click'],axis=1)\n",
    "\n",
    "AMEX_TRAIN_FEAT.fillna(0,inplace=True)\n",
    "#check_for_null_values(AMEX_TRAIN_FEAT)\n",
    "AMEX_TEST_FEAT.fillna(0,inplace=True)\n"
   ]
  },
  {
   "cell_type": "code",
   "execution_count": 6,
   "metadata": {},
   "outputs": [
    {
     "data": {
      "text/plain": [
       "Index(['user_id', 'product', 'campaign_id', 'webpage_id', 'product_category_1',\n",
       "       'user_group_id', 'gender', 'age_level', 'user_depth', 'var_1', 'day',\n",
       "       'month', 'is_product_A', 'is_product_B', 'is_product_C', 'is_product_D',\n",
       "       'is_product_E', 'is_product_F', 'is_product_G', 'is_product_H',\n",
       "       'is_product_I', 'is_product_J', 'is_cmapaign_id_82320',\n",
       "       'is_cmapaign_id_98970', 'is_cmapaign_id_105960',\n",
       "       'is_cmapaign_id_118601', 'is_cmapaign_id_359520',\n",
       "       'is_cmapaign_id_360936', 'is_cmapaign_id_396664',\n",
       "       'is_cmapaign_id_404347', 'is_cmapaign_id_405490',\n",
       "       'is_cmapaign_id_414149', 'is_webpage_id_1734', 'is_webpage_id_6970',\n",
       "       'is_webpage_id_11085', 'is_webpage_id_13787', 'is_webpage_id_28529',\n",
       "       'is_webpage_id_45962', 'is_webpage_id_51181', 'is_webpage_id_53587',\n",
       "       'is_webpage_id_60305', 'is_product_category_1_1',\n",
       "       'is_product_category_1_2', 'is_product_category_1_3',\n",
       "       'is_product_category_1_4', 'is_product_category_1_5',\n",
       "       'is_user_group_id_0.0', 'is_user_group_id_1.0', 'is_user_group_id_2.0',\n",
       "       'is_user_group_id_3.0', 'is_user_group_id_4.0', 'is_user_group_id_5.0',\n",
       "       'is_user_group_id_6.0', 'is_user_group_id_7.0', 'is_user_group_id_8.0',\n",
       "       'is_user_group_id_9.0', 'is_user_group_id_10.0',\n",
       "       'is_user_group_id_11.0', 'is_user_group_id_12.0', 'is_gender_Female',\n",
       "       'is_gender_Male', 'is_user_depth_1.0', 'is_user_depth_2.0',\n",
       "       'is_user_depth_3.0', 'age_level_0.0', 'age_level_1.0', 'age_level_2.0',\n",
       "       'age_level_3.0', 'age_level_4.0', 'age_level_5.0', 'age_level_6.0',\n",
       "       'month_7', 'day_2', 'day_3', 'day_4', 'day_5', 'day_6', 'day_7'],\n",
       "      dtype='object')"
      ]
     },
     "execution_count": 6,
     "metadata": {},
     "output_type": "execute_result"
    }
   ],
   "source": [
    "AMEX_TRAIN_FEAT.columns"
   ]
  },
  {
   "cell_type": "code",
   "execution_count": null,
   "metadata": {},
   "outputs": [],
   "source": []
  }
 ],
 "metadata": {
  "kernelspec": {
   "display_name": "Python 3",
   "language": "python",
   "name": "python3"
  },
  "language_info": {
   "codemirror_mode": {
    "name": "ipython",
    "version": 3
   },
   "file_extension": ".py",
   "mimetype": "text/x-python",
   "name": "python",
   "nbconvert_exporter": "python",
   "pygments_lexer": "ipython3",
   "version": "3.6.4"
  }
 },
 "nbformat": 4,
 "nbformat_minor": 2
}
