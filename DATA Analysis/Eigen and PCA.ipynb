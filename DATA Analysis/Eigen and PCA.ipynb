{
 "cells": [
  {
   "cell_type": "code",
   "execution_count": 1,
   "metadata": {},
   "outputs": [],
   "source": [
    "import numpy as np\n",
    "import pandas as pd\n",
    "import sklearn as sk\n",
    "import matplotlib as mpt\n",
    "%matplotlib inline\n",
    "import matplotlib.pyplot as plt\n",
    "from numpy.random import seed\n",
    "from numpy.random import randn"
   ]
  },
  {
   "cell_type": "code",
   "execution_count": 2,
   "metadata": {},
   "outputs": [
    {
     "data": {
      "image/png": "[encoded data removed]",
      "text/plain": [
       "<Figure size 432x288 with 1 Axes>"
      ]
     },
     "metadata": {},
     "output_type": "display_data"
    }
   ],
   "source": [
    "x=[2.5,0.5,2.2,1.9,3.1,2.3,2,1,1.5,1.1]\n",
    "y=[2.4,0.7,2.9,2.2,3.0,2.7,1.6,1.1,1.6,0.9]\n",
    "#np.random.seed(19680801)\n",
    "N=50\n",
    "#colors = np.array([1,2,3,4,5,5,5])\n",
    "area = (10 * np.random.rand(N))**2  # 0 to 15 point radii\n",
    "plt.scatter(x, y)\n",
    "plt.show()\n",
    "inp_data=np.array([x,y])\n",
    "inp=inp_data.T"
   ]
  },
  {
   "cell_type": "code",
   "execution_count": 5,
   "metadata": {},
   "outputs": [
    {
     "name": "stdout",
     "output_type": "stream",
     "text": [
      "[0.0490834  1.28402771]\n"
     ]
    },
    {
     "data": {
      "text/plain": [
       "array([[-0.21105048, -3.45911227],\n",
       "       [ 0.10692205, -0.85356176],\n",
       "       [ 0.34843981, -3.62333958],\n",
       "       [ 0.09448203, -2.9053525 ],\n",
       "       [-0.24543364, -4.3069435 ],\n",
       "       [ 0.13934727, -3.54409119],\n",
       "       [-0.38575987, -2.53203265],\n",
       "       [ 0.01048208, -1.48656992],\n",
       "       [-0.01817055, -2.19309595],\n",
       "       [-0.19861046, -1.40732153]])"
      ]
     },
     "execution_count": 5,
     "metadata": {},
     "output_type": "execute_result"
    },
    {
     "data": {
      "image/png": "[encoded data removed]",
      "text/plain": [
       "<Figure size 432x288 with 1 Axes>"
      ]
     },
     "metadata": {},
     "output_type": "display_data"
    }
   ],
   "source": [
    "xmean=np.mean(x)\n",
    "ymean=np.mean(y)\n",
    "np.cov(x,y)\n",
    "eigen_values =np.linalg.eig(np.cov(x,y))[0]\n",
    "eigen_vector=np.linalg.eig(np.cov(x,y))[1]\n",
    "\n",
    "print(eigen_values)\n",
    "#print('eigen vector \\n',eigen_vector)\n",
    "#print('covariance matrix\\n',np.cov(x,y))\n",
    "\n",
    "#print(inp)\n",
    "final=np.dot(inp,eigen_vector)\n",
    "final[:,0]\n",
    "plt.scatter(final[:,1],final[:,0]/1000,alpha=.9)\n",
    "final"
   ]
  },
  {
   "cell_type": "code",
   "execution_count": 139,
   "metadata": {},
   "outputs": [
    {
     "name": "stdout",
     "output_type": "stream",
     "text": [
      "eigen values [ 0.11914637 23.08085363]\n",
      "distance - [[11.22173216]]\n"
     ]
    },
    {
     "data": {
      "image/png": "[encoded data removed]",
      "text/plain": [
       "<Figure size 432x288 with 1 Axes>"
      ]
     },
     "metadata": {},
     "output_type": "display_data"
    }
   ],
   "source": [
    "x=[0,1,2,3,4]\n",
    "y=[0,1,4,9,10]\n",
    "plt.scatter(x,y,c='r')\n",
    "np.cov(x,y)\n",
    "eigen_values =np.linalg.eig(np.cov(x,y))[0]\n",
    "eigen_vector=np.linalg.eig(np.cov(x,y))[1]\n",
    "print('eigen values',eigen_values)\n",
    "eigen_vector\n",
    "cov=np.cov(x,y)\n",
    "a=np.matrix([3,20])\n",
    "\n",
    "cov.T\n",
    "icov = np.linalg.inv(cov)\n",
    "dist=np.dot(np.dot(a,icov),a.T)\n",
    "print('distance -',np.sqrt(dist))"
   ]
  },
  {
   "cell_type": "code",
   "execution_count": 144,
   "metadata": {},
   "outputs": [
    {
     "data": {
      "text/plain": [
       "matrix([[409]])"
      ]
     },
     "execution_count": 144,
     "metadata": {},
     "output_type": "execute_result"
    }
   ],
   "source": [
    "a=np.matrix([3,20])\n",
    "b=np.matrix([3,20])\n",
    "np.matmul(a,b.T)"
   ]
  }
 ],
 "metadata": {
  "kernelspec": {
   "display_name": "Python 3",
   "language": "python",
   "name": "python3"
  },
  "language_info": {
   "codemirror_mode": {
    "name": "ipython",
    "version": 3
   },
   "file_extension": ".py",
   "mimetype": "text/x-python",
   "name": "python",
   "nbconvert_exporter": "python",
   "pygments_lexer": "ipython3",
   "version": "3.6.4"
  }
 },
 "nbformat": 4,
 "nbformat_minor": 2
}
