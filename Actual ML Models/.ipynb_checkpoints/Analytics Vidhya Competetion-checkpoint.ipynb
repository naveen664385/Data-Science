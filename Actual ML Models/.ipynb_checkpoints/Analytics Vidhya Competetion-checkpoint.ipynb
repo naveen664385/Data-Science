{
 "cells": [
  {
   "cell_type": "code",
   "execution_count": 1,
   "metadata": {},
   "outputs": [],
   "source": [
    "#importing all the basic libraries\n",
    "import numpy as np\n",
    "import pandas as pd\n",
    "import sklearn as sk\n",
    "import matplotlib as mpt\n",
    "%matplotlib inline\n",
    "import matplotlib.pyplot as plt"
   ]
  },
  {
   "cell_type": "code",
   "execution_count": 3,
   "metadata": {},
   "outputs": [],
   "source": [
    "#load data into pandas datframe to see the structure of the data and analyze it\n",
    "#skipping completely balnk lines and ignoring the lines with not having proper format\n",
    "AMEX_TRAIN_DATA = pd.read_csv('C:/Users/bnaveen3/Desktop/AV/train.csv',skip_blank_lines=True,\n",
    "                      error_bad_lines=False)\n",
    "#Loading historical logics to check if this is useful\n",
    "AMEX_HIST_LOG=pd.read_csv('C:/Users/bnaveen3/Desktop/AV/historical_user_logs.csv',skip_blank_lines=True,\n",
    "                      error_bad_lines=False)"
   ]
  },
  {
   "cell_type": "code",
   "execution_count": 7,
   "metadata": {
    "collapsed": true
   },
   "outputs": [
    {
     "name": "stdout",
     "output_type": "stream",
     "text": [
      "Index(['session_id', 'DateTime', 'user_id', 'product', 'campaign_id',\n",
      "       'webpage_id', 'product_category_1', 'product_category_2',\n",
      "       'user_group_id', 'gender', 'age_level', 'user_depth',\n",
      "       'city_development_index', 'var_1', 'is_click'],\n",
      "      dtype='object')\n"
     ]
    },
    {
     "data": {
      "text/plain": [
       "Index(['DateTime', 'user_id', 'product', 'action'], dtype='object')"
      ]
     },
     "execution_count": 7,
     "metadata": {},
     "output_type": "execute_result"
    }
   ],
   "source": [
    "print(AMEX_TRAIN_DATA.columns)\n",
    "AMEX_HIST_LOG.columns"
   ]
  },
  {
   "cell_type": "code",
   "execution_count": 49,
   "metadata": {},
   "outputs": [
    {
     "name": "stdout",
     "output_type": "stream",
     "text": [
      "total unique session ids- 463291\n",
      "number of record with no clicks 431960\n",
      "number of sessions with clicks 31331\n",
      "percenatge of sessions clicked on ads is  7.253217890545422 %\n"
     ]
    }
   ],
   "source": [
    "#total count is 463291\n",
    "print('total unique session ids-',len(AMEX_TRAIN_DATA['session_id'].unique()))\n",
    "#here total session ids and unique session ids are same..so we can say session id as an primary key.\n",
    "print('number of record with no clicks',AMEX_TRAIN_DATA[AMEX_TRAIN_DATA['is_click']==0]['session_id'].count())\n",
    "print('number of sessions with clicks',AMEX_TRAIN_DATA[AMEX_TRAIN_DATA['is_click']==1]['session_id'].count())\n",
    "print('percenatge of sessions clicked on ads is ',(31331/431960)*100,'%')"
   ]
  },
  {
   "cell_type": "code",
   "execution_count": 57,
   "metadata": {},
   "outputs": [
    {
     "name": "stdout",
     "output_type": "stream",
     "text": [
      "Null Data in column Datetime 0\n",
      "Null Data in column user_id 0\n",
      "Null Data in column user_id 0\n",
      "Null Data in column product 0\n",
      "Null Data in column campaign_id 0\n",
      "Null Data in column webpage_id 0\n",
      "Null Data in column product_category_1 0\n",
      "Null Data in column product_category_2 365854\n",
      "Null Data in column user_group_id 18243\n",
      "Null Data in column gender 18243\n",
      "Null Data in column age_level 18243\n",
      "Null Data in column user_depth 18243\n",
      "Null Data in column city_development_index 125129\n",
      "Null Data in column var_1 0\n",
      "Null Data in column is_click 0\n"
     ]
    }
   ],
   "source": [
    "#check if there is any data missing \n",
    "print('Null Data in column Datetime',AMEX_TRAIN_DATA[AMEX_TRAIN_DATA['DateTime'].isna()]['session_id'].count())\n",
    "print('Null Data in column user_id',AMEX_TRAIN_DATA[AMEX_TRAIN_DATA['user_id'].isna()]['session_id'].count())\n",
    "print('Null Data in column user_id',AMEX_TRAIN_DATA[AMEX_TRAIN_DATA['user_id'].isna()]['session_id'].count())\n",
    "print('Null Data in column product',AMEX_TRAIN_DATA[AMEX_TRAIN_DATA['product'].isna()]['session_id'].count())\n",
    "print('Null Data in column campaign_id',AMEX_TRAIN_DATA[AMEX_TRAIN_DATA['campaign_id'].isna()]['session_id'].count())\n",
    "print('Null Data in column webpage_id',AMEX_TRAIN_DATA[AMEX_TRAIN_DATA['webpage_id'].isna()]['session_id'].count())\n",
    "print('Null Data in column product_category_1',AMEX_TRAIN_DATA[AMEX_TRAIN_DATA['product_category_1'].isna()]['session_id'].count())\n",
    "print('Null Data in column product_category_2',AMEX_TRAIN_DATA[AMEX_TRAIN_DATA['product_category_2'].isna()]['session_id'].count())\n",
    "print('Null Data in column user_group_id',AMEX_TRAIN_DATA[AMEX_TRAIN_DATA['user_group_id'].isna()]['session_id'].count())\n",
    "print('Null Data in column gender',AMEX_TRAIN_DATA[AMEX_TRAIN_DATA['gender'].isna()]['session_id'].count())\n",
    "print('Null Data in column age_level',AMEX_TRAIN_DATA[AMEX_TRAIN_DATA['age_level'].isna()]['session_id'].count())\n",
    "print('Null Data in column user_depth',AMEX_TRAIN_DATA[AMEX_TRAIN_DATA['user_depth'].isna()]['session_id'].count())\n",
    "print('Null Data in column city_development_index',AMEX_TRAIN_DATA[AMEX_TRAIN_DATA['city_development_index'].isna()]['session_id'].count())\n",
    "print('Null Data in column var_1',AMEX_TRAIN_DATA[AMEX_TRAIN_DATA['var_1'].isna()]['session_id'].count())\n",
    "print('Null Data in column is_click',AMEX_TRAIN_DATA[AMEX_TRAIN_DATA['is_click'].isna()]['session_id'].count())"
   ]
  },
  {
   "cell_type": "code",
   "execution_count": 68,
   "metadata": {},
   "outputs": [
    {
     "data": {
      "text/plain": [
       "Index(['session_id', 'DateTime', 'user_id', 'product', 'campaign_id',\n",
       "       'webpage_id', 'product_category_1', 'product_category_2',\n",
       "       'user_group_id', 'gender', 'age_level', 'user_depth',\n",
       "       'city_development_index', 'var_1', 'is_click'],\n",
       "      dtype='object')"
      ]
     },
     "execution_count": 68,
     "metadata": {},
     "output_type": "execute_result"
    },
    {
     "data": {
      "image/png": "[encoded data removed]",
      "text/plain": [
       "<Figure size 432x288 with 1 Axes>"
      ]
     },
     "metadata": {},
     "output_type": "display_data"
    }
   ],
   "source": [
    "#By loking at the above data column product_category_2 is having lot of Blank values user_group_id,gender,age_level user_depth have less blank values\n",
    "#city_developement_index has lot of blanks\n",
    "#check if transformation is required for the null values\n",
    "#drawing box plots for each feature\n",
    "AMEX_TRAIN_DATA['user_depth'].plot.box()\n",
    "AMEX_TRAIN_DATA.columns\n",
    "#trail 1--> build a pipe line by dropping the data with nulls...if too many or null dont consider those columns...\n",
    "#if less are nul drop those records and check\n",
    "#get the history counts/number of logins and create a synthetic variable with historical data and join it to main data\n",
    "#check the score....\n",
    "#trail2\n",
    "#try to replace missing values for gender by preparing a SVM with data where gender is not not null predict the gender and replace follow same procedure\n",
    "#for product_category_2 lot of data has nulls...try to split this into two features like..has_prod_cat2 and prod_cat2 and change\n",
    "#get the history counts/number of logins and create a synthetic variable with historical data and join it to main data"
   ]
  }
 ],
 "metadata": {
  "kernelspec": {
   "display_name": "Python 3",
   "language": "python",
   "name": "python3"
  },
  "language_info": {
   "codemirror_mode": {
    "name": "ipython",
    "version": 3
   },
   "file_extension": ".py",
   "mimetype": "text/x-python",
   "name": "python",
   "nbconvert_exporter": "python",
   "pygments_lexer": "ipython3",
   "version": "3.6.4"
  },
  "widgets": {
   "application/vnd.jupyter.widget-state+json": {
    "state": {},
    "version_major": 2,
    "version_minor": 0
   }
  }
 },
 "nbformat": 4,
 "nbformat_minor": 2
}
