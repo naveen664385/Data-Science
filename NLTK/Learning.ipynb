{
 "cells": [
  {
   "cell_type": "code",
   "execution_count": 1,
   "metadata": {},
   "outputs": [],
   "source": [
    "import nltk"
   ]
  },
  {
   "cell_type": "code",
   "execution_count": 2,
   "metadata": {},
   "outputs": [
    {
     "name": "stdout",
     "output_type": "stream",
     "text": [
      "showing info https://raw.githubusercontent.com/nltk/nltk_data/gh-pages/index.xml\n"
     ]
    },
    {
     "data": {
      "text/plain": [
       "True"
      ]
     },
     "execution_count": 2,
     "metadata": {},
     "output_type": "execute_result"
    }
   ],
   "source": [
    "nltk.download()"
   ]
  },
  {
   "cell_type": "code",
   "execution_count": 3,
   "metadata": {},
   "outputs": [
    {
     "name": "stdout",
     "output_type": "stream",
     "text": [
      "*** Introductory Examples for the NLTK Book ***\n",
      "Loading text1, ..., text9 and sent1, ..., sent9\n",
      "Type the name of the text or sentence to view it.\n",
      "Type: 'texts()' or 'sents()' to list the materials.\n",
      "text1: Moby Dick by Herman Melville 1851\n",
      "text2: Sense and Sensibility by Jane Austen 1811\n",
      "text3: The Book of Genesis\n",
      "text4: Inaugural Address Corpus\n",
      "text5: Chat Corpus\n",
      "text6: Monty Python and the Holy Grail\n",
      "text7: Wall Street Journal\n",
      "text8: Personals Corpus\n",
      "text9: The Man Who Was Thursday by G . K . Chesterton 1908\n"
     ]
    }
   ],
   "source": [
    "from nltk.book import *"
   ]
  },
  {
   "cell_type": "code",
   "execution_count": 6,
   "metadata": {},
   "outputs": [
    {
     "data": {
      "text/plain": [
       "<Text: The Man Who Was Thursday by G . K . Chesterton 1908>"
      ]
     },
     "execution_count": 6,
     "metadata": {},
     "output_type": "execute_result"
    }
   ],
   "source": [
    "text9"
   ]
  },
  {
   "cell_type": "code",
   "execution_count": 13,
   "metadata": {},
   "outputs": [
    {
     "name": "stdout",
     "output_type": "stream",
     "text": [
      "Displaying 25 of 470 matches:\n",
      "e , but being blind , believed . This is a tale of those old fears , even of t\n",
      "h truth can now be told ; Yea , there is strength in striking root and good in\n",
      "s to him , that of listening while he is talking . And Mr . Lucian Gregory , t\n",
      "ape . This particular evening , if it is remembered for nothing else , will be\n",
      "pressed that splendid smallness which is the soul of local patriotism . The ve\n",
      "f clouds and cruel colours that there is brought forth upon the earth such a p\n",
      " oratorical good humour . \" An artist is identical with an anarchist ,\" he cri\n",
      "ose the words anywhere . An anarchist is an artist . The man who throws a bomb\n",
      "an artist . The man who throws a bomb is an artist , because he prefers a grea\n",
      "hing . He sees how much more valuable is one burst of blazing light , one peal\n",
      "be the Underground Railway .\" \" So it is ,\" said Mr . Syme . \" Nonsense !\" sai\n",
      " sad and tired ? I will tell you . It is because they know that the train is g\n",
      "t is because they know that the train is going right . It is because they know\n",
      "ow that the train is going right . It is because they know that whatever place\n",
      "t for that place they will reach . It is because after they have passed Sloane\n",
      "re unaccountably Baker Street !\" \" It is you who are unpoetical ,\" replied the\n",
      "et Syme . \" If what you say of clerks is true , they can only be as prosaic as\n",
      "our poetry . The rare , strange thing is to hit the mark ; the gross , obvious\n",
      " the mark ; the gross , obvious thing is to miss it . We feel it is epical whe\n",
      "ious thing is to miss it . We feel it is epical when man with one wild arrow s\n",
      "e wild arrow strikes a distant bird . Is it not also epical when man with one \n",
      "ine strikes a distant station ? Chaos is dull ; because in chaos the train mig\n",
      "o Baker Street or to Bagdad . But man is a magician , and his whole magic is i\n",
      "n is a magician , and his whole magic is in this , that he does say Victoria ,\n",
      "at he does say Victoria , and lo ! it is Victoria . No , take your books of me\n"
     ]
    }
   ],
   "source": [
    "text9.concordance(\"is\")"
   ]
  },
  {
   "cell_type": "code",
   "execution_count": 25,
   "metadata": {},
   "outputs": [
    {
     "name": "stdout",
     "output_type": "stream",
     "text": [
      "had seemed said were felt put pointed continued saw began took flung\n",
      "was went in came as found spoke seen\n"
     ]
    }
   ],
   "source": [
    "text9.similar(\"turned\")"
   ]
  },
  {
   "cell_type": "code",
   "execution_count": 24,
   "metadata": {},
   "outputs": [
    {
     "name": "stdout",
     "output_type": "stream",
     "text": [
      "a_pretty am_glad a_lucky is_pretty be_glad\n"
     ]
    }
   ],
   "source": [
    "text2.common_contexts([\"monstrous\", \"very\"])"
   ]
  },
  {
   "cell_type": "code",
   "execution_count": 35,
   "metadata": {},
   "outputs": [
    {
     "name": "stdout",
     "output_type": "stream",
     "text": [
      "estate manner acquaintance own home house interest son wife pleasure\n",
      "eagerness abilities happiness money being seat name engagements\n",
      "attachments fears\n"
     ]
    }
   ],
   "source": [
    "text2.similar(\"duties\")"
   ]
  },
  {
   "cell_type": "code",
   "execution_count": 44,
   "metadata": {},
   "outputs": [
    {
     "name": "stdout",
     "output_type": "stream",
     "text": [
      "No common contexts were found\n"
     ]
    }
   ],
   "source": [
    "text2.common_contexts([\"attachments\",\"eagerness\"])"
   ]
  },
  {
   "cell_type": "code",
   "execution_count": 47,
   "metadata": {},
   "outputs": [
    {
     "data": {
      "text/plain": [
       "<Text: Sense and Sensibility by Jane Austen 1811>"
      ]
     },
     "execution_count": 47,
     "metadata": {},
     "output_type": "execute_result"
    }
   ],
   "source": [
    "#a=['hello i am here whats up']\n",
    "#a.similar('am')\n",
    "text2"
   ]
  }
 ],
 "metadata": {
  "kernelspec": {
   "display_name": "Python 3",
   "language": "python",
   "name": "python3"
  },
  "language_info": {
   "codemirror_mode": {
    "name": "ipython",
    "version": 3
   },
   "file_extension": ".py",
   "mimetype": "text/x-python",
   "name": "python",
   "nbconvert_exporter": "python",
   "pygments_lexer": "ipython3",
   "version": "3.6.4"
  }
 },
 "nbformat": 4,
 "nbformat_minor": 2
}
